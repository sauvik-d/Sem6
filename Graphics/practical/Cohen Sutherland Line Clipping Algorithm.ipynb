{
 "cells": [
  {
   "cell_type": "code",
   "execution_count": 6,
   "id": "ec8e1df0-fc54-48a8-8d00-d07ef2aad44f",
   "metadata": {},
   "outputs": [],
   "source": [
    "import matplotlib.pyplot as plt"
   ]
  },
  {
   "cell_type": "code",
   "execution_count": 14,
   "id": "b86032cd-c6b4-4e78-8173-c4dadb23ef20",
   "metadata": {},
   "outputs": [],
   "source": [
    "# define line clipping window boundaries\n",
    "xmin, xmax = 50, 80\n",
    "ymin, ymax = 10, 40\n",
    "INSIDE = 0\n",
    "LEFT = 1\n",
    "RIGHT = 2\n",
    "BOTTOM = 4\n",
    "TOP = 8"
   ]
  },
  {
   "cell_type": "code",
   "execution_count": 15,
   "id": "85619fe8-8053-4d24-a5a4-435db44d4171",
   "metadata": {},
   "outputs": [],
   "source": [
    "def compute_outcode(x, y):\n",
    "    code = INSIDE\n",
    "\n",
    "    if x < xmin:\n",
    "        code |= LEFT\n",
    "    elif x > xmax:\n",
    "        code |= RIGHT\n",
    "    if y < ymin:\n",
    "        code |= BOTTOM\n",
    "    elif y > ymax:\n",
    "        code |= TOP\n",
    "\n",
    "    return code"
   ]
  },
  {
   "cell_type": "code",
   "execution_count": 16,
   "id": "409f9539-8cae-4135-8c27-b975f15cce6b",
   "metadata": {},
   "outputs": [],
   "source": [
    "def cohen_sutherland_line_clip(x0, y0, x1, y1):\n",
    "    outcode0 = compute_outcode(x0, y0)\n",
    "    outcode1 = compute_outcode(x1, y1)\n",
    "    accept = False\n",
    "\n",
    "    while True:\n",
    "        if not (outcode0 | outcode1):\n",
    "            accept = True\n",
    "            break\n",
    "        elif outcode0 & outcode1:\n",
    "            break\n",
    "        else:\n",
    "            outcode_out = outcode1 if outcode1 > outcode0 else outcode0\n",
    "\n",
    "            if outcode_out & TOP:\n",
    "                x = x0 + (x1 - x0) * (ymax - y0) / (y1 - y0)\n",
    "                y = ymax\n",
    "            elif outcode_out & BOTTOM:\n",
    "                x = x0 + (x1 - x0) * (ymin - y0) / (y1 - y0)\n",
    "                y = ymin\n",
    "            elif outcode_out & RIGHT:\n",
    "                y = y0 + (y1 - y0) * (xmax - x0) / (x1 - x0)\n",
    "                x = xmax\n",
    "            elif outcode_out & LEFT:\n",
    "                y = y0 + (y1 - y0) * (xmin - x0) / (x1 - x0)\n",
    "                x = xmin\n",
    "\n",
    "            if outcode_out == outcode0:\n",
    "                x0, y0 = x, y\n",
    "                outcode0 = compute_outcode(x0, y0)\n",
    "            else:\n",
    "                x1, y1 = x, y\n",
    "                outcode1 = compute_outcode(x1, y1)\n",
    "\n",
    "    return accept, x0, y0, x1, y1"
   ]
  },
  {
   "cell_type": "code",
   "execution_count": 17,
   "id": "9e93f452-71af-462e-9ad7-245333a4c3fd",
   "metadata": {},
   "outputs": [],
   "source": [
    "x0, y0 = 70, 20\n",
    "x1, y1 = 100, 10\n",
    "\n",
    "accept, x0_clip, y0_clip, x1_clip, y1_clip = cohen_sutherland_line_clip(x0, y0, x1, y1)"
   ]
  },
  {
   "cell_type": "code",
   "execution_count": 18,
   "id": "c6aa637d-27f4-40a5-9757-a39bf05b2e57",
   "metadata": {},
   "outputs": [
    {
     "data": {
      "image/png": "[encoded data removed]",
      "text/plain": [
       "<Figure size 640x480 with 1 Axes>"
      ]
     },
     "metadata": {},
     "output_type": "display_data"
    }
   ],
   "source": [
    "plt.plot([xmin, xmax, xmax, xmin, xmin], [ymin, ymin, ymax, ymax, ymin], color='black')\n",
    "\n",
    "# Plot the original line segment\n",
    "plt.plot([x0, x1], [y0, y1], color='blue', label='Original Line')\n",
    "\n",
    "# Plot the clipped line segment\n",
    "if accept:\n",
    "    plt.plot([x0_clip, x1_clip], [y0_clip, y1_clip], color='green', label='Clipped Line')\n",
    "else:\n",
    "    plt.text((x0 + x1) / 2, (y0 + y1) / 2, 'Line Rejected', color='red', fontsize=12)\n",
    "\n",
    "plt.gca().set_aspect('equal', adjustable='box')\n",
    "plt.title('Cohen-Sutherland Line Clipping')\n",
    "plt.xlabel('X')\n",
    "plt.ylabel('Y')\n",
    "plt.legend()\n",
    "plt.grid(True)\n",
    "plt.show()"
   ]
  }
 ],
 "metadata": {
  "kernelspec": {
   "display_name": "Python 3 (ipykernel)",
   "language": "python",
   "name": "python3"
  },
  "language_info": {
   "codemirror_mode": {
    "name": "ipython",
    "version": 3
   },
   "file_extension": ".py",
   "mimetype": "text/x-python",
   "name": "python",
   "nbconvert_exporter": "python",
   "pygments_lexer": "ipython3",
   "version": "3.12.4"
  }
 },
 "nbformat": 4,
 "nbformat_minor": 5
}
