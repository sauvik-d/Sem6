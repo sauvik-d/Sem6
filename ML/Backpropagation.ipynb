{
 "cells": [
  {
   "cell_type": "markdown",
   "metadata": {
    "id": "rsAEuSvHKBBU"
   },
   "source": [
    "## Implementation of BackPropagation technique using input-output set for 2-input AND gate"
   ]
  },
  {
   "cell_type": "code",
   "execution_count": 1,
   "metadata": {
    "id": "uyeP6WmfJTbW"
   },
   "outputs": [],
   "source": [
    "import numpy as np"
   ]
  },
  {
   "cell_type": "code",
   "execution_count": 2,
   "metadata": {
    "id": "bzaH9MIXKsLy"
   },
   "outputs": [],
   "source": [
    "W=[1,1]\n",
    "th=1\n",
    "lr=0.02\n",
    "X=[[0,0],[0,1],[1,0],[1,1]]\n",
    "y_pred=[]\n",
    "y=[0,0,0,1]"
   ]
  },
  {
   "cell_type": "code",
   "execution_count": 3,
   "metadata": {
    "id": "NWb0iv9fKu1Q"
   },
   "outputs": [],
   "source": [
    "def And(X,W):\n",
    "  q=np.dot(X,W)\n",
    "  if (q<th):\n",
    "    return 0\n",
    "  else:\n",
    "    return 1"
   ]
  },
  {
   "cell_type": "code",
   "execution_count": 4,
   "metadata": {
    "id": "31pvUhj9K5DD"
   },
   "outputs": [],
   "source": [
    "def predict():\n",
    "  for i in range(len(X)):\n",
    "    y_pred.append(And(X[i],W))\n",
    "\n",
    "  return y_pred"
   ]
  },
  {
   "cell_type": "code",
   "execution_count": 5,
   "metadata": {
    "colab": {
     "base_uri": "https://localhost:8080/"
    },
    "executionInfo": {
     "elapsed": 6,
     "status": "ok",
     "timestamp": 1743927993100,
     "user": {
      "displayName": "Arnav",
      "userId": "10147333102024527908"
     },
     "user_tz": -330
    },
    "id": "ravdyRNUL7sw",
    "outputId": "3fdd3d78-40f4-442e-cf50-4c8388749978"
   },
   "outputs": [
    {
     "name": "stdout",
     "output_type": "stream",
     "text": [
      "Predicted Output for AND Gate logic:\n",
      "[0, 1, 1, 1]\n"
     ]
    }
   ],
   "source": [
    "y_pred=predict()\n",
    "print(\"Predicted Output for AND Gate logic:\")\n",
    "print(y_pred)"
   ]
  },
  {
   "cell_type": "code",
   "execution_count": 6,
   "metadata": {
    "colab": {
     "base_uri": "https://localhost:8080/"
    },
    "executionInfo": {
     "elapsed": 6,
     "status": "ok",
     "timestamp": 1743927996279,
     "user": {
      "displayName": "Arnav",
      "userId": "10147333102024527908"
     },
     "user_tz": -330
    },
    "id": "3hdBO1uOMHzG",
    "outputId": "4ff8c9d7-8c11-43f8-bb1a-4cf3be916c8c"
   },
   "outputs": [
    {
     "name": "stdout",
     "output_type": "stream",
     "text": [
      "[0, 1, 1, 1]\n",
      "[0, 0, 0, 1]\n",
      "[0, 0, 0, 1]\n",
      "[0, 0, 0, 1]\n"
     ]
    }
   ],
   "source": [
    "epochs=1\n",
    "for i in range(epochs):\n",
    "  for i in range(len(y)):\n",
    "    W[0]=W[0]+(y[i]-y_pred[i])*lr\n",
    "    W[1]=W[1]+(y[i]-y_pred[i])*lr\n",
    "    y_pred_=predict()\n",
    "    print(y_pred_[-4:])"
   ]
  },
  {
   "cell_type": "markdown",
   "metadata": {
    "id": "9UHUcUSMOD-G"
   },
   "source": [
    "### Hence, we saw that after applying Backpropagation technique we get the correct output supposed to be for 2-input AND Gate, by the iterations towards the end of inner loop."
   ]
  }
 ],
 "metadata": {
  "colab": {
   "authorship_tag": "ABX9TyPCnwviiiePEMd23oRYks1o",
   "provenance": []
  },
  "kernelspec": {
   "display_name": "Python 3 (ipykernel)",
   "language": "python",
   "name": "python3"
  },
  "language_info": {
   "codemirror_mode": {
    "name": "ipython",
    "version": 3
   },
   "file_extension": ".py",
   "mimetype": "text/x-python",
   "name": "python",
   "nbconvert_exporter": "python",
   "pygments_lexer": "ipython3",
   "version": "3.12.4"
  }
 },
 "nbformat": 4,
 "nbformat_minor": 4
}
