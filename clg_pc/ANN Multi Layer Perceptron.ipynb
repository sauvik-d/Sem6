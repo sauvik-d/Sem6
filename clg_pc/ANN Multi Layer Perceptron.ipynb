{
 "cells": [
  {
   "cell_type": "markdown",
   "metadata": {
    "id": "tYL4tNLRvGZT"
   },
   "source": [
    "# **Implementation of MultiLayer Perceptron in Artificial Neural Network**"
   ]
  },
  {
   "cell_type": "code",
   "execution_count": null,
   "metadata": {
    "id": "udqVbKtc_hss"
   },
   "outputs": [],
   "source": [
    "import numpy as np\n",
    "import pandas as pd"
   ]
  },
  {
   "cell_type": "code",
   "execution_count": null,
   "metadata": {
    "colab": {
     "base_uri": "https://localhost:8080/"
    },
    "executionInfo": {
     "elapsed": 12,
     "status": "ok",
     "timestamp": 1739974459066,
     "user": {
      "displayName": "Arnav",
      "userId": "10147333102024527908"
     },
     "user_tz": -330
    },
    "id": "ZoEZplMmAN36",
    "outputId": "a5cb0f21-912a-46d7-9224-cd4d87993abb"
   },
   "outputs": [
    {
     "name": "stdout",
     "output_type": "stream",
     "text": [
      "   Roll_No  Mathematics  Comp_Sci\n",
      "0        1            8         9\n",
      "1        2            8         9\n",
      "2        3            8         9\n",
      "3        4            8         8\n",
      "4        5            9         8\n",
      "5        6            5         8\n",
      "6        7            6         7\n",
      "7        8            9         7\n",
      "8        9            7         6\n",
      "9       10            4         6\n"
     ]
    }
   ],
   "source": [
    "df=pd.read_csv('/content/drive/MyDrive/Colab Notebooks/ML-DSE4/ANN.csv')\n",
    "print(df)"
   ]
  },
  {
   "cell_type": "code",
   "execution_count": null,
   "metadata": {
    "id": "SSCHUjDXAp3P"
   },
   "outputs": [],
   "source": [
    "w1=np.array([[4,5],[6,7]])\n",
    "w2=np.array([1,2])"
   ]
  },
  {
   "cell_type": "code",
   "execution_count": null,
   "metadata": {
    "id": "qCqBaV_CB1ZT"
   },
   "outputs": [],
   "source": [
    "def ANN(x,w):\n",
    "    wt_sum=np.dot(x,w)\n",
    "    return wt_sum"
   ]
  },
  {
   "cell_type": "code",
   "execution_count": null,
   "metadata": {
    "id": "GT5_BI4OC282"
   },
   "outputs": [],
   "source": [
    "def Act_Func(cgpa):\n",
    "  if cgpa>=35:\n",
    "    return 1\n",
    "  else:\n",
    "    return 0"
   ]
  },
  {
   "cell_type": "code",
   "execution_count": null,
   "metadata": {
    "colab": {
     "base_uri": "https://localhost:8080/"
    },
    "executionInfo": {
     "elapsed": 22,
     "status": "ok",
     "timestamp": 1739974463416,
     "user": {
      "displayName": "Arnav",
      "userId": "10147333102024527908"
     },
     "user_tz": -330
    },
    "id": "tVSGNYyQDEwR",
    "outputId": "c710a4cb-65bb-4bd5-c661-e2f41dca5ff1"
   },
   "outputs": [
    {
     "name": "stdout",
     "output_type": "stream",
     "text": [
      "Student  1\n",
      "Weighted Sum:\n",
      "Intermediate Layer-1 77\n",
      "Intermediate Layer-2 111\n",
      "Final Output:\n",
      "Pass\n",
      "Student  2\n",
      "Weighted Sum:\n",
      "Intermediate Layer-1 77\n",
      "Intermediate Layer-2 111\n",
      "Final Output:\n",
      "Pass\n",
      "Student  3\n",
      "Weighted Sum:\n",
      "Intermediate Layer-1 77\n",
      "Intermediate Layer-2 111\n",
      "Final Output:\n",
      "Pass\n",
      "Student  4\n",
      "Weighted Sum:\n",
      "Intermediate Layer-1 72\n",
      "Intermediate Layer-2 104\n",
      "Final Output:\n",
      "Pass\n",
      "Student  5\n",
      "Weighted Sum:\n",
      "Intermediate Layer-1 76\n",
      "Intermediate Layer-2 110\n",
      "Final Output:\n",
      "Pass\n",
      "Student  6\n",
      "Weighted Sum:\n",
      "Intermediate Layer-1 60\n",
      "Intermediate Layer-2 86\n",
      "Final Output:\n",
      "Pass\n",
      "Student  7\n",
      "Weighted Sum:\n",
      "Intermediate Layer-1 59\n",
      "Intermediate Layer-2 85\n",
      "Final Output:\n",
      "Pass\n",
      "Student  8\n",
      "Weighted Sum:\n",
      "Intermediate Layer-1 71\n",
      "Intermediate Layer-2 103\n",
      "Final Output:\n",
      "Pass\n",
      "Student  9\n",
      "Weighted Sum:\n",
      "Intermediate Layer-1 58\n",
      "Intermediate Layer-2 84\n",
      "Final Output:\n",
      "Pass\n",
      "Student  10\n",
      "Weighted Sum:\n",
      "Intermediate Layer-1 46\n",
      "Intermediate Layer-2 66\n",
      "Final Output:\n",
      "Pass\n"
     ]
    }
   ],
   "source": [
    "x=list()\n",
    "for i in range(10):\n",
    "  grades=df.loc[i][1:]\n",
    "  print('Student ',i+1)\n",
    "  print('Weighted Sum:')\n",
    "  m1=ANN(grades,w1[0])\n",
    "  m2=ANN(grades,w1[1])\n",
    "  print('Intermediate Layer-1',m1)\n",
    "  print('Intermediate Layer-2',m2)\n",
    "  x.append(m1)\n",
    "  x.append(m2)\n",
    "  print('Final Output:')\n",
    "  if (Act_Func(ANN(x,w2))==1):\n",
    "    print('Pass')\n",
    "  else:\n",
    "    print('Fail')\n",
    "  x.clear()"
   ]
  }
 ],
 "metadata": {
  "colab": {
   "authorship_tag": "ABX9TyN5cHsrr2D/Lkhm3BQG5Ymi",
   "mount_file_id": "1MlsUAe7M-oNpu-aJco_Y_fW2nGSTh5m0",
   "provenance": []
  },
  "kernelspec": {
   "display_name": "Python 3 (ipykernel)",
   "language": "python",
   "name": "python3"
  },
  "language_info": {
   "codemirror_mode": {
    "name": "ipython",
    "version": 3
   },
   "file_extension": ".py",
   "mimetype": "text/x-python",
   "name": "python",
   "nbconvert_exporter": "python",
   "pygments_lexer": "ipython3",
   "version": "3.10.12"
  }
 },
 "nbformat": 4,
 "nbformat_minor": 4
}
