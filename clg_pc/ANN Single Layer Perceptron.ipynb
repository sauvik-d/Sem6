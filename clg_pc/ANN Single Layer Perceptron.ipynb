{
 "cells": [
  {
   "cell_type": "markdown",
   "metadata": {
    "id": "E0pDmzXfuyQR"
   },
   "source": [
    "# **Implementation of Single Layer Perceptron in Artificial Neural Network**"
   ]
  },
  {
   "cell_type": "code",
   "execution_count": null,
   "metadata": {
    "id": "T3qunzRbZWvD"
   },
   "outputs": [],
   "source": [
    "import numpy as np"
   ]
  },
  {
   "cell_type": "code",
   "execution_count": null,
   "metadata": {
    "id": "SETff5g3aZul"
   },
   "outputs": [],
   "source": [
    "x=np.array([7,8,9,6])\n",
    "w=np.array([4,3,2,5])"
   ]
  },
  {
   "cell_type": "code",
   "execution_count": null,
   "metadata": {
    "colab": {
     "base_uri": "https://localhost:8080/"
    },
    "executionInfo": {
     "elapsed": 369,
     "status": "ok",
     "timestamp": 1737539474675,
     "user": {
      "displayName": "Arnav",
      "userId": "10147333102024527908"
     },
     "user_tz": -330
    },
    "id": "_gLD1BhIandY",
    "outputId": "31349bca-bb31-4dfa-bcc3-24594a5f0498"
   },
   "outputs": [
    {
     "name": "stdout",
     "output_type": "stream",
     "text": [
      "Grades:\n",
      "[7 8 9 6]\n",
      "Credit Point:\n",
      "[4 3 2 5]\n"
     ]
    }
   ],
   "source": [
    "print('Grades:')\n",
    "print(x)\n",
    "print('Credit Point:')\n",
    "print(w)"
   ]
  },
  {
   "cell_type": "code",
   "execution_count": null,
   "metadata": {
    "id": "aYVgZUK4bVX1"
   },
   "outputs": [],
   "source": [
    "def ANN(x,w):\n",
    "    wt_sum=np.dot(x,w)\n",
    "    return wt_sum"
   ]
  },
  {
   "cell_type": "code",
   "execution_count": null,
   "metadata": {
    "id": "6E88mZWxnpKs"
   },
   "outputs": [],
   "source": [
    "def Act_Func(cgpa):\n",
    "  if cgpa>=60:\n",
    "    return 1\n",
    "  else:\n",
    "    return 0"
   ]
  },
  {
   "cell_type": "code",
   "execution_count": null,
   "metadata": {
    "colab": {
     "base_uri": "https://localhost:8080/"
    },
    "executionInfo": {
     "elapsed": 370,
     "status": "ok",
     "timestamp": 1737539648212,
     "user": {
      "displayName": "Arnav",
      "userId": "10147333102024527908"
     },
     "user_tz": -330
    },
    "id": "AwYph-RPawhj",
    "outputId": "30862230-53ca-4494-aea7-0da200d0ce2a"
   },
   "outputs": [
    {
     "name": "stdout",
     "output_type": "stream",
     "text": [
      "Weighted Sum:\n",
      "100\n"
     ]
    }
   ],
   "source": [
    "print('Weighted Sum:')\n",
    "print(ANN(x,w))"
   ]
  },
  {
   "cell_type": "code",
   "execution_count": null,
   "metadata": {
    "id": "8WILfSLrgf5K"
   },
   "outputs": [],
   "source": [
    "import pandas as pd"
   ]
  },
  {
   "cell_type": "code",
   "execution_count": null,
   "metadata": {
    "id": "k6-v2_Uigi-8"
   },
   "outputs": [],
   "source": [
    "df=pd.read_csv('/content/drive/MyDrive/Colab Notebooks/ML-DSE4/ANN.csv')"
   ]
  },
  {
   "cell_type": "code",
   "execution_count": null,
   "metadata": {
    "colab": {
     "base_uri": "https://localhost:8080/"
    },
    "executionInfo": {
     "elapsed": 669,
     "status": "ok",
     "timestamp": 1738076229673,
     "user": {
      "displayName": "Arnav",
      "userId": "10147333102024527908"
     },
     "user_tz": -330
    },
    "id": "x0KQektdjfhW",
    "outputId": "17444e48-69d8-42f3-de1c-1c87ef7b4d25"
   },
   "outputs": [
    {
     "name": "stdout",
     "output_type": "stream",
     "text": [
      "   Roll_No  Mathematics  Comp_Sci\n",
      "0        1            8         9\n",
      "1        2            8         9\n",
      "2        3            8         9\n",
      "3        4            8         8\n",
      "4        5            9         8\n",
      "5        6            5         8\n",
      "6        7            6         7\n",
      "7        8            9         7\n",
      "8        9            7         6\n",
      "9       10            4         6\n"
     ]
    }
   ],
   "source": [
    "print(df)"
   ]
  },
  {
   "cell_type": "code",
   "execution_count": null,
   "metadata": {
    "colab": {
     "base_uri": "https://localhost:8080/"
    },
    "executionInfo": {
     "elapsed": 372,
     "status": "ok",
     "timestamp": 1737541799089,
     "user": {
      "displayName": "Arnav",
      "userId": "10147333102024527908"
     },
     "user_tz": -330
    },
    "id": "5acC3dUmi_dz",
    "outputId": "cfb5e75c-359f-4516-cd8b-abf6c5429c65"
   },
   "outputs": [
    {
     "name": "stdout",
     "output_type": "stream",
     "text": [
      "1\n"
     ]
    }
   ],
   "source": [
    "print(df['Roll_No'][0])"
   ]
  },
  {
   "cell_type": "code",
   "execution_count": null,
   "metadata": {
    "colab": {
     "base_uri": "https://localhost:8080/"
    },
    "executionInfo": {
     "elapsed": 387,
     "status": "ok",
     "timestamp": 1738076180190,
     "user": {
      "displayName": "Arnav",
      "userId": "10147333102024527908"
     },
     "user_tz": -330
    },
    "id": "sGy_AjIHaQdC",
    "outputId": "f106f4c5-a1be-46e3-915f-a396370837be"
   },
   "outputs": [
    {
     "name": "stdout",
     "output_type": "stream",
     "text": [
      "Mathematics    8\n",
      "Comp_Sci       9\n",
      "Name: 0, dtype: int64\n"
     ]
    }
   ],
   "source": [
    "print(df.loc[0][1:])"
   ]
  },
  {
   "cell_type": "code",
   "execution_count": null,
   "metadata": {
    "colab": {
     "base_uri": "https://localhost:8080/"
    },
    "executionInfo": {
     "elapsed": 375,
     "status": "ok",
     "timestamp": 1737543013577,
     "user": {
      "displayName": "Arnav",
      "userId": "10147333102024527908"
     },
     "user_tz": -330
    },
    "id": "ufJSGJcugxQt",
    "outputId": "dd41e94d-80d7-4e38-d302-2bb5801ab57b"
   },
   "outputs": [
    {
     "name": "stdout",
     "output_type": "stream",
     "text": [
      "Student  1\n",
      "Weighted Sum 120\n",
      "Pass\n",
      "Student  2\n",
      "Weighted Sum 103\n",
      "Pass\n",
      "Student  3\n",
      "Weighted Sum 106\n",
      "Pass\n",
      "Student  4\n",
      "Weighted Sum 83\n",
      "Pass\n",
      "Student  5\n",
      "Weighted Sum 98\n",
      "Pass\n",
      "Student  6\n",
      "Weighted Sum 99\n",
      "Pass\n",
      "Student  7\n",
      "Weighted Sum 91\n",
      "Pass\n",
      "Student  8\n",
      "Weighted Sum 76\n",
      "Pass\n",
      "Student  9\n",
      "Weighted Sum 75\n",
      "Pass\n",
      "Student  10\n",
      "Weighted Sum 88\n",
      "Pass\n"
     ]
    }
   ],
   "source": [
    "grades=list()\n",
    "for i in range(10):\n",
    "  grades=df.loc[i][1:]\n",
    "  print('Student ',i+1)\n",
    "  print('Weighted Sum',ANN(grades,w))\n",
    "  if (Act_Func(ANN(grades,w))==1):\n",
    "    print('Pass')\n",
    "  else:\n",
    "    print('Fail')"
   ]
  },
  {
   "cell_type": "code",
   "execution_count": null,
   "metadata": {
    "id": "7aX6ooM3miL0"
   },
   "outputs": [],
   "source": []
  }
 ],
 "metadata": {
  "colab": {
   "authorship_tag": "ABX9TyNsBt4ZQJj408iWu2mR2lsY",
   "mount_file_id": "1BvT52w_vgROP_IAYvyLHZEyTEQ7dRmrq",
   "provenance": []
  },
  "kernelspec": {
   "display_name": "Python 3 (ipykernel)",
   "language": "python",
   "name": "python3"
  },
  "language_info": {
   "codemirror_mode": {
    "name": "ipython",
    "version": 3
   },
   "file_extension": ".py",
   "mimetype": "text/x-python",
   "name": "python",
   "nbconvert_exporter": "python",
   "pygments_lexer": "ipython3",
   "version": "3.10.12"
  }
 },
 "nbformat": 4,
 "nbformat_minor": 4
}
