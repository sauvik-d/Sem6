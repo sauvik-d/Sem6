{
 "cells": [
  {
   "cell_type": "code",
   "execution_count": 1,
   "id": "2978a413-99bd-4749-9af3-078285604713",
   "metadata": {},
   "outputs": [],
   "source": [
    "import numpy as np"
   ]
  },
  {
   "cell_type": "code",
   "execution_count": 31,
   "id": "2d9e461e-1166-4560-96db-ab69f78a9600",
   "metadata": {},
   "outputs": [],
   "source": [
    "def scale_matrix(sx, sy, sz):\n",
    "    matrix = [\n",
    "        [sx, 0, 0, 0],\n",
    "        [0, sy, 0, 0],\n",
    "        [0, 0, sz, 0],\n",
    "        [0, 0, 0, 1]\n",
    "    ]\n",
    "    return matrix"
   ]
  },
  {
   "cell_type": "code",
   "execution_count": 32,
   "id": "929ecf5a-4a4d-49c4-93db-242d1af685a3",
   "metadata": {},
   "outputs": [
    {
     "name": "stdout",
     "output_type": "stream",
     "text": [
      "Enter the coordinates of the point\n"
     ]
    },
    {
     "name": "stdin",
     "output_type": "stream",
     "text": [
      "Enter the x-coordinate:  5\n",
      "Enter the y-coordinate:  6\n",
      "Enter the z-coordinate:  2\n"
     ]
    }
   ],
   "source": [
    "print(\"Enter the coordinates of the point\")\n",
    "px = int(input(\"Enter the x-coordinate: \"))\n",
    "py = int(input(\"Enter the y-coordinate: \"))\n",
    "pz = int(input(\"Enter the z-coordinate: \"))"
   ]
  },
  {
   "cell_type": "code",
   "execution_count": 33,
   "id": "7b870268-22f8-4594-9174-e2cd22b3c674",
   "metadata": {},
   "outputs": [
    {
     "name": "stdout",
     "output_type": "stream",
     "text": [
      "Enter the scaling factors: \n"
     ]
    },
    {
     "name": "stdin",
     "output_type": "stream",
     "text": [
      " 2\n",
      " 4\n",
      " 3\n"
     ]
    }
   ],
   "source": [
    "print(\"Enter the scaling factors: \")\n",
    "sx = int(input())\n",
    "sy = int(input())\n",
    "sz = int(input())\n",
    "\n",
    "matrix = scale_matrix(sx, sy, sz)"
   ]
  },
  {
   "cell_type": "code",
   "execution_count": 34,
   "id": "ff1dcb13-c5da-495c-a22a-acd58fa3ade1",
   "metadata": {},
   "outputs": [],
   "source": [
    "P_dash = np.dot(matrix, [px, py, pz, 1])"
   ]
  },
  {
   "cell_type": "code",
   "execution_count": 35,
   "id": "5d619f1f-d5f2-4845-9148-6a31b34d9711",
   "metadata": {},
   "outputs": [
    {
     "name": "stdout",
     "output_type": "stream",
     "text": [
      "[10 24  6  1]\n"
     ]
    }
   ],
   "source": [
    "print(P_dash)"
   ]
  },
  {
   "cell_type": "code",
   "execution_count": null,
   "id": "e06cff2f-5b3f-4d4d-b36b-6f372b9a92ef",
   "metadata": {},
   "outputs": [],
   "source": []
  }
 ],
 "metadata": {
  "kernelspec": {
   "display_name": "Python 3 (ipykernel)",
   "language": "python",
   "name": "python3"
  },
  "language_info": {
   "codemirror_mode": {
    "name": "ipython",
    "version": 3
   },
   "file_extension": ".py",
   "mimetype": "text/x-python",
   "name": "python",
   "nbconvert_exporter": "python",
   "pygments_lexer": "ipython3",
   "version": "3.10.12"
  }
 },
 "nbformat": 4,
 "nbformat_minor": 5
}
