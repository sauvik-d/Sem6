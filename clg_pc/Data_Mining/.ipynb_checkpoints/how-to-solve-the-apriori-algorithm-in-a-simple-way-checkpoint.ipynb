{
 "cells": [
  {
   "cell_type": "markdown",
   "id": "34a1742a",
   "metadata": {
    "papermill": {
     "duration": 0.012908,
     "end_time": "2022-07-29T23:21:24.859560",
     "exception": false,
     "start_time": "2022-07-29T23:21:24.846652",
     "status": "completed"
    },
    "tags": []
   },
   "source": [
    "# ****How to solve the Apriori algorithm in a simple way from scratch?****"
   ]
  },
  {
   "cell_type": "markdown",
   "id": "65b88e5c",
   "metadata": {
    "papermill": {
     "duration": 0.010984,
     "end_time": "2022-07-29T23:21:24.881885",
     "exception": false,
     "start_time": "2022-07-29T23:21:24.870901",
     "status": "completed"
    },
    "tags": []
   },
   "source": [
    "****Note: All the contents of the images, including tables and calculations and codes have been investigated by me and there is no need to refer any references for them.****"
   ]
  },
  {
   "cell_type": "markdown",
   "id": "ba7c36d3",
   "metadata": {
    "papermill": {
     "duration": 0.010776,
     "end_time": "2022-07-29T23:21:24.905131",
     "exception": false,
     "start_time": "2022-07-29T23:21:24.894355",
     "status": "completed"
    },
    "tags": []
   },
   "source": [
    "![](https://miro.medium.com/max/1400/1*jAv5qpTW930FA629StRcUA.jpeg)"
   ]
  },
  {
   "cell_type": "markdown",
   "id": "0fb74630",
   "metadata": {
    "papermill": {
     "duration": 0.011301,
     "end_time": "2022-07-29T23:21:24.927891",
     "exception": false,
     "start_time": "2022-07-29T23:21:24.916590",
     "status": "completed"
    },
    "tags": []
   },
   "source": [
    "#  ****Introduction****\n",
    "\n",
    "****There are several methods for machine learning such as association, correlation, classification & clustering, this tutorial primarily focuses on learning using association rules. By association rules, we identify the set of items or attributes that occur together in a table[1].****"
   ]
  },
  {
   "cell_type": "markdown",
   "id": "1265ce3f",
   "metadata": {
    "papermill": {
     "duration": 0.010901,
     "end_time": "2022-07-29T23:21:24.950211",
     "exception": false,
     "start_time": "2022-07-29T23:21:24.939310",
     "status": "completed"
    },
    "tags": []
   },
   "source": [
    "# ****Association Rule Learning****\n",
    "\n",
    "****The association rule learning is one of the very important concepts of machine learning,and it is employed in Market Basket analysis, Web usage mining,\n",
    "continuous production, etc. Here market basket analysis is a technique used by the various big retailer to discover the associations between items.\n",
    "We can understand it by taking an example of a supermarket, as in a supermarket,\n",
    "all products that are purchased together are put together[2].****"
   ]
  },
  {
   "cell_type": "markdown",
   "id": "42ad8f9e",
   "metadata": {
    "papermill": {
     "duration": 0.010758,
     "end_time": "2022-07-29T23:21:24.971920",
     "exception": false,
     "start_time": "2022-07-29T23:21:24.961162",
     "status": "completed"
    },
    "tags": []
   },
   "source": [
    " ****Association rule learning can be divided into three types of algorithms[2]:****\n",
    "\n",
    "****1.     Apriori****\n",
    "\n",
    "****2.     Eclat****\n",
    "\n",
    "****3.     F-P Growth Algorithm****"
   ]
  },
  {
   "cell_type": "markdown",
   "id": "e2a32855",
   "metadata": {
    "papermill": {
     "duration": 0.011167,
     "end_time": "2022-07-29T23:21:24.994070",
     "exception": false,
     "start_time": "2022-07-29T23:21:24.982903",
     "status": "completed"
    },
    "tags": []
   },
   "source": [
    "# **** Introduction to APRIORI****\n",
    "\n",
    "****Apriori is an algorithm used for Association Rule learning. It searches for a series of frequent sets of items in the datasets. It builds on associations and correlations between the itemsets. It is the algorithm behind “You may also like” that you commonly saw in recommendation platforms[3].****"
   ]
  },
  {
   "cell_type": "markdown",
   "id": "e90a08a8",
   "metadata": {
    "papermill": {
     "duration": 0.011421,
     "end_time": "2022-07-29T23:21:25.016719",
     "exception": false,
     "start_time": "2022-07-29T23:21:25.005298",
     "status": "completed"
    },
    "tags": []
   },
   "source": [
    "![](https://miro.medium.com/max/1400/1*ivVrrcaltUDoVzWdw0748A.jpeg)\n"
   ]
  },
  {
   "cell_type": "markdown",
   "id": "a93f2d65",
   "metadata": {
    "papermill": {
     "duration": 0.010773,
     "end_time": "2022-07-29T23:21:25.038571",
     "exception": false,
     "start_time": "2022-07-29T23:21:25.027798",
     "status": "completed"
    },
    "tags": []
   },
   "source": [
    "# ****What is an Apriori algorithm?****\n",
    "\n",
    "****Apriori algorithm assumes that any subset of a frequent itemset must be frequent. Say, a transaction containing {milk, eggs, bread} also contains {eggs, bread}. So, according to the principle of Apriori, if {milk, eggs, bread} is frequent, then {eggs, bread} must also be frequent [4].****"
   ]
  },
  {
   "cell_type": "markdown",
   "id": "82eba139",
   "metadata": {
    "papermill": {
     "duration": 0.011013,
     "end_time": "2022-07-29T23:21:25.060549",
     "exception": false,
     "start_time": "2022-07-29T23:21:25.049536",
     "status": "completed"
    },
    "tags": []
   },
   "source": [
    "# ****How Does the Apriori Algorithm Work?****\n",
    "\n",
    "****In order to select the interesting rules out of multiple possible rules from this small business scenario, we will be using the following measures[4]:****\n",
    "\n",
    "*****     Support****\n",
    "\n",
    "*****     Confidence****\n",
    "\n",
    "*****     Lift****\n",
    "\n",
    "*****     Conviction****"
   ]
  },
  {
   "cell_type": "markdown",
   "id": "8b87b29a",
   "metadata": {
    "papermill": {
     "duration": 0.010821,
     "end_time": "2022-07-29T23:21:25.082426",
     "exception": false,
     "start_time": "2022-07-29T23:21:25.071605",
     "status": "completed"
    },
    "tags": []
   },
   "source": [
    "![](https://miro.medium.com/max/1102/1*xMlBaEFymfCS7JtFDg3svQ.png)"
   ]
  },
  {
   "cell_type": "markdown",
   "id": "762b9ec8",
   "metadata": {
    "papermill": {
     "duration": 0.01084,
     "end_time": "2022-07-29T23:21:25.104226",
     "exception": false,
     "start_time": "2022-07-29T23:21:25.093386",
     "status": "completed"
    },
    "tags": []
   },
   "source": [
    "# ****Support****\n",
    "\n",
    "****Support of item x is nothing but the ratio of the number of transactions in which item x appears to the total number of transactions.****"
   ]
  },
  {
   "cell_type": "markdown",
   "id": "6ae11f7d",
   "metadata": {
    "papermill": {
     "duration": 0.010787,
     "end_time": "2022-07-29T23:21:25.126006",
     "exception": false,
     "start_time": "2022-07-29T23:21:25.115219",
     "status": "completed"
    },
    "tags": []
   },
   "source": [
    "# ****Confidence****\n",
    "\n",
    "****Confidence (x => y) signifies the likelihood of the item y being purchased when item x is purchased. This method takes into account the popularity of item x.****"
   ]
  },
  {
   "cell_type": "markdown",
   "id": "7816f12f",
   "metadata": {
    "papermill": {
     "duration": 0.010783,
     "end_time": "2022-07-29T23:21:25.147749",
     "exception": false,
     "start_time": "2022-07-29T23:21:25.136966",
     "status": "completed"
    },
    "tags": []
   },
   "source": [
    "# ****Lift****\n",
    "\n",
    "****Lift (x => y) is nothing but the ‘interestingness’ or the likelihood of the item y being purchased when item x is sold. Unlike confidence (x => y), this method takes into account the popularity of the item y.****"
   ]
  },
  {
   "cell_type": "markdown",
   "id": "1f9750c3",
   "metadata": {
    "papermill": {
     "duration": 0.017292,
     "end_time": "2022-07-29T23:21:25.178805",
     "exception": false,
     "start_time": "2022-07-29T23:21:25.161513",
     "status": "completed"
    },
    "tags": []
   },
   "source": [
    "* ****Lift (x => y) = 1**** means that there is no correlation within the itemset.\n",
    "* ****Lift (x => y) > 1**** means that there is a positive correlation within the itemset, i.e.,   products in the itemset, x and y, are more likely to be bought together.\n",
    "* ****Lift (x => y) < 1**** means that there is a negative correlation within the itemset, i.e.,   products in itemset, x and y, are unlikely to be bought together."
   ]
  },
  {
   "cell_type": "markdown",
   "id": "133374f7",
   "metadata": {
    "papermill": {
     "duration": 0.017886,
     "end_time": "2022-07-29T23:21:25.213353",
     "exception": false,
     "start_time": "2022-07-29T23:21:25.195467",
     "status": "completed"
    },
    "tags": []
   },
   "source": [
    "# ****Conviction****\n",
    "\n",
    "****Conviction of a rule can be defined as follows:**** \n",
    "\n",
    "![](https://miro.medium.com/max/218/0*BirEb6MzYN2WP8-i.png)"
   ]
  },
  {
   "cell_type": "markdown",
   "id": "7d28a85a",
   "metadata": {
    "papermill": {
     "duration": 0.010965,
     "end_time": "2022-07-29T23:21:25.243377",
     "exception": false,
     "start_time": "2022-07-29T23:21:25.232412",
     "status": "completed"
    },
    "tags": []
   },
   "source": [
    "****Its value range is [0, +∞].****\n",
    "\n",
    "*****     Conv(x => y) = 1 means that x has no relation with y.****\n",
    "\n",
    "*****     Greater the conviction higher the interest in the rule.****"
   ]
  },
  {
   "cell_type": "markdown",
   "id": "bac26f92",
   "metadata": {
    "papermill": {
     "duration": 0.010858,
     "end_time": "2022-07-29T23:21:25.265714",
     "exception": false,
     "start_time": "2022-07-29T23:21:25.254856",
     "status": "completed"
    },
    "tags": []
   },
   "source": [
    "![](https://miro.medium.com/max/1400/1*3eQ7CesIRbMiZ2JePUdpjA.png)"
   ]
  },
  {
   "cell_type": "markdown",
   "id": "1dffa62d",
   "metadata": {
    "papermill": {
     "duration": 0.011568,
     "end_time": "2022-07-29T23:21:25.288518",
     "exception": false,
     "start_time": "2022-07-29T23:21:25.276950",
     "status": "completed"
    },
    "tags": []
   },
   "source": [
    "# ****Now, we want to solve a problem of the Apriori algorithm in a simple way:****"
   ]
  },
  {
   "cell_type": "markdown",
   "id": "c94fc2e2",
   "metadata": {
    "papermill": {
     "duration": 0.011164,
     "end_time": "2022-07-29T23:21:25.310685",
     "exception": false,
     "start_time": "2022-07-29T23:21:25.299521",
     "status": "completed"
    },
    "tags": []
   },
   "source": [
    "****Part(a): Apply the Apriori algorithm to the following data set:****"
   ]
  },
  {
   "cell_type": "markdown",
   "id": "6d20db5b",
   "metadata": {
    "papermill": {
     "duration": 0.010801,
     "end_time": "2022-07-29T23:21:25.332740",
     "exception": false,
     "start_time": "2022-07-29T23:21:25.321939",
     "status": "completed"
    },
    "tags": []
   },
   "source": [
    "![](https://miro.medium.com/max/1400/1*2_wzA0N-ytk6ya9R9nNi3A.jpeg)"
   ]
  },
  {
   "cell_type": "markdown",
   "id": "f7e45c4d",
   "metadata": {
    "papermill": {
     "duration": 0.010811,
     "end_time": "2022-07-29T23:21:25.354619",
     "exception": false,
     "start_time": "2022-07-29T23:21:25.343808",
     "status": "completed"
    },
    "tags": []
   },
   "source": [
    " ****Step-1:****\n",
    "\n",
    "In the first step, we index the data and then calculate the support for each one, if support was less than the minimum value we eliminate that from the table."
   ]
  },
  {
   "cell_type": "markdown",
   "id": "1bfef3f6",
   "metadata": {
    "papermill": {
     "duration": 0.010811,
     "end_time": "2022-07-29T23:21:25.376502",
     "exception": false,
     "start_time": "2022-07-29T23:21:25.365691",
     "status": "completed"
    },
    "tags": []
   },
   "source": [
    "![](https://miro.medium.com/max/1400/1*7sZy0tdalHYz3AXYDqfMfA.png)"
   ]
  },
  {
   "cell_type": "markdown",
   "id": "d9fd1bb8",
   "metadata": {
    "papermill": {
     "duration": 0.010836,
     "end_time": "2022-07-29T23:21:25.398699",
     "exception": false,
     "start_time": "2022-07-29T23:21:25.387863",
     "status": "completed"
    },
    "tags": []
   },
   "source": [
    "****Step-2:****\n",
    "\n",
    "Calculate the support for each one"
   ]
  },
  {
   "cell_type": "markdown",
   "id": "71d63482",
   "metadata": {
    "papermill": {
     "duration": 0.011134,
     "end_time": "2022-07-29T23:21:25.420927",
     "exception": false,
     "start_time": "2022-07-29T23:21:25.409793",
     "status": "completed"
    },
    "tags": []
   },
   "source": [
    "![](https://miro.medium.com/max/1400/1*xiO6tZqDLeHOc1ED5XyMTg.png)"
   ]
  },
  {
   "cell_type": "markdown",
   "id": "b7d61b3c",
   "metadata": {
    "papermill": {
     "duration": 0.011057,
     "end_time": "2022-07-29T23:21:25.443009",
     "exception": false,
     "start_time": "2022-07-29T23:21:25.431952",
     "status": "completed"
    },
    "tags": []
   },
   "source": [
    "****Step-3:****\n",
    "\n",
    "Continue to calculate the support and select the best answer"
   ]
  },
  {
   "cell_type": "markdown",
   "id": "8be05c40",
   "metadata": {
    "papermill": {
     "duration": 0.01079,
     "end_time": "2022-07-29T23:21:25.464741",
     "exception": false,
     "start_time": "2022-07-29T23:21:25.453951",
     "status": "completed"
    },
    "tags": []
   },
   "source": [
    "![](https://miro.medium.com/max/1400/1*BhKcwrfIPAlvsVIpXUYiJQ.jpeg)"
   ]
  },
  {
   "cell_type": "markdown",
   "id": "15a9c5fa",
   "metadata": {
    "papermill": {
     "duration": 0.018235,
     "end_time": "2022-07-29T23:21:25.494646",
     "exception": false,
     "start_time": "2022-07-29T23:21:25.476411",
     "status": "completed"
    },
    "tags": []
   },
   "source": [
    "****Part(b): Show two rules that have a confidence of 70% or greater for an itemset containing three items from part a.****"
   ]
  },
  {
   "cell_type": "markdown",
   "id": "a4d3e840",
   "metadata": {
    "papermill": {
     "duration": 0.018367,
     "end_time": "2022-07-29T23:21:25.536694",
     "exception": false,
     "start_time": "2022-07-29T23:21:25.518327",
     "status": "completed"
    },
    "tags": []
   },
   "source": [
    "# ****Step-1:****\n",
    "\n",
    "****Calculate the confidence and follow the rules of question in part(b)****"
   ]
  },
  {
   "cell_type": "markdown",
   "id": "5b450d59",
   "metadata": {
    "papermill": {
     "duration": 0.01628,
     "end_time": "2022-07-29T23:21:25.569954",
     "exception": false,
     "start_time": "2022-07-29T23:21:25.553674",
     "status": "completed"
    },
    "tags": []
   },
   "source": [
    "![](https://miro.medium.com/max/1400/1*hr34WAD1r3QMyEdJt31Mdg.jpeg)"
   ]
  },
  {
   "cell_type": "markdown",
   "id": "c3b4072f",
   "metadata": {
    "papermill": {
     "duration": 0.010856,
     "end_time": "2022-07-29T23:21:25.596729",
     "exception": false,
     "start_time": "2022-07-29T23:21:25.585873",
     "status": "completed"
    },
    "tags": []
   },
   "source": [
    "# ****Step-2:****\n",
    "\n",
    "****In addition to the above rules, the following can also be considered, but in the question only two rules are required for calculation.****"
   ]
  },
  {
   "cell_type": "markdown",
   "id": "7437cbe6",
   "metadata": {
    "papermill": {
     "duration": 0.013257,
     "end_time": "2022-07-29T23:21:25.620998",
     "exception": false,
     "start_time": "2022-07-29T23:21:25.607741",
     "status": "completed"
    },
    "tags": []
   },
   "source": [
    "![](https://miro.medium.com/max/1400/1*spVbFUgjYhFu_aS9UHoSRw.png)"
   ]
  },
  {
   "cell_type": "markdown",
   "id": "e036f2c0",
   "metadata": {
    "papermill": {
     "duration": 0.010882,
     "end_time": "2022-07-29T23:21:25.643654",
     "exception": false,
     "start_time": "2022-07-29T23:21:25.632772",
     "status": "completed"
    },
    "tags": []
   },
   "source": [
    "# ****Hands-on: Apriori Algorithm in Python- Market Basket Analysis****"
   ]
  },
  {
   "cell_type": "markdown",
   "id": "31200663",
   "metadata": {
    "papermill": {
     "duration": 0.010847,
     "end_time": "2022-07-29T23:21:25.666371",
     "exception": false,
     "start_time": "2022-07-29T23:21:25.655524",
     "status": "completed"
    },
    "tags": []
   },
   "source": [
    "# ****Problem Statement:****\n",
    "\n",
    "****For the implementation of the Apriori algorithm, we are using data collected from a SuperMarket, where each row indicates all the items purchased in a particular transaction.****"
   ]
  },
  {
   "cell_type": "markdown",
   "id": "1d900de9",
   "metadata": {
    "papermill": {
     "duration": 0.011028,
     "end_time": "2022-07-29T23:21:25.688555",
     "exception": false,
     "start_time": "2022-07-29T23:21:25.677527",
     "status": "completed"
    },
    "tags": []
   },
   "source": [
    "> ****The manager of a retail store is trying to find out an association rule between items, to figure out which items are more often bought together so that he can keep the items together in order to increase sales.\n",
    "The dataset has 7,500 entries. Drive link to download dataset[4][6].****"
   ]
  },
  {
   "cell_type": "markdown",
   "id": "1e8edac1",
   "metadata": {
    "papermill": {
     "duration": 0.011488,
     "end_time": "2022-07-29T23:21:25.711943",
     "exception": false,
     "start_time": "2022-07-29T23:21:25.700455",
     "status": "completed"
    },
    "tags": []
   },
   "source": [
    "# ****Environment Setup:****\n",
    "\n",
    "****Before we move forward, we need to install the ‘apyori’ package first on command prompt.****"
   ]
  },
  {
   "cell_type": "markdown",
   "id": "225377f7",
   "metadata": {
    "papermill": {
     "duration": 0.011703,
     "end_time": "2022-07-29T23:21:25.735511",
     "exception": false,
     "start_time": "2022-07-29T23:21:25.723808",
     "status": "completed"
    },
    "tags": []
   },
   "source": [
    "![](https://miro.medium.com/max/764/1*BuwVTV6dcOW1PuzKiriuJA.jpeg)"
   ]
  },
  {
   "cell_type": "markdown",
   "id": "be0f442b",
   "metadata": {
    "papermill": {
     "duration": 0.011626,
     "end_time": "2022-07-29T23:21:25.758951",
     "exception": false,
     "start_time": "2022-07-29T23:21:25.747325",
     "status": "completed"
    },
    "tags": []
   },
   "source": [
    "# ****Market Basket Analysis Implementation within Python****\n",
    "\n",
    "****With the help of the apyori package, we will be implementing the Apriori algorithm in order to help the manager in market basket analysis [4].****"
   ]
  },
  {
   "cell_type": "markdown",
   "id": "66869b55",
   "metadata": {
    "papermill": {
     "duration": 0.011707,
     "end_time": "2022-07-29T23:21:25.782587",
     "exception": false,
     "start_time": "2022-07-29T23:21:25.770880",
     "status": "completed"
    },
    "tags": []
   },
   "source": [
    "![](https://miro.medium.com/max/1400/1*uUTyXbR7RgRsfoJ4LBmP1A.png)"
   ]
  },
  {
   "cell_type": "markdown",
   "id": "d1e60ffe",
   "metadata": {
    "papermill": {
     "duration": 0.011683,
     "end_time": "2022-07-29T23:21:25.806180",
     "exception": false,
     "start_time": "2022-07-29T23:21:25.794497",
     "status": "completed"
    },
    "tags": []
   },
   "source": [
    "# ****Step-1: We import the necessary libraries required for the implementation****"
   ]
  },
  {
   "cell_type": "code",
   "execution_count": 1,
   "id": "78da2e0e",
   "metadata": {
    "execution": {
     "iopub.execute_input": "2022-07-29T23:21:25.835501Z",
     "iopub.status.busy": "2022-07-29T23:21:25.834948Z",
     "iopub.status.idle": "2022-07-29T23:21:25.854430Z",
     "shell.execute_reply": "2022-07-29T23:21:25.853336Z"
    },
    "papermill": {
     "duration": 0.039038,
     "end_time": "2022-07-29T23:21:25.857439",
     "exception": false,
     "start_time": "2022-07-29T23:21:25.818401",
     "status": "completed"
    },
    "tags": []
   },
   "outputs": [],
   "source": [
    "import numpy as np\n",
    "import matplotlib.pyplot as plt\n",
    "import pandas as pd"
   ]
  },
  {
   "cell_type": "markdown",
   "id": "91f3159a",
   "metadata": {
    "papermill": {
     "duration": 0.018317,
     "end_time": "2022-07-29T23:21:25.896193",
     "exception": false,
     "start_time": "2022-07-29T23:21:25.877876",
     "status": "completed"
    },
    "tags": []
   },
   "source": [
    "# ****Step-2: Load the dataset****"
   ]
  },
  {
   "cell_type": "markdown",
   "id": "a4b463c0",
   "metadata": {
    "papermill": {
     "duration": 0.011529,
     "end_time": "2022-07-29T23:21:25.927616",
     "exception": false,
     "start_time": "2022-07-29T23:21:25.916087",
     "status": "completed"
    },
    "tags": []
   },
   "source": [
    "****Now we have to proceed by reading the dataset we have, that is in a csv format. We do that using pandas module’s read_csv function [6].****"
   ]
  },
  {
   "cell_type": "code",
   "execution_count": 2,
   "id": "c46f6a9d",
   "metadata": {
    "execution": {
     "iopub.execute_input": "2022-07-29T23:21:25.952105Z",
     "iopub.status.busy": "2022-07-29T23:21:25.951256Z",
     "iopub.status.idle": "2022-07-29T23:21:26.787333Z",
     "shell.execute_reply": "2022-07-29T23:21:26.786242Z"
    },
    "papermill": {
     "duration": 0.851122,
     "end_time": "2022-07-29T23:21:26.789974",
     "exception": false,
     "start_time": "2022-07-29T23:21:25.938852",
     "status": "completed"
    },
    "tags": []
   },
   "outputs": [],
   "source": [
    "dataset = pd.read_csv(\"../input/market-basket/Market_Basket_Optimisation.csv\", header = None)\n",
    "transactions = []\n",
    "for i in range(0, 7501):\n",
    "    transactions.append([str(dataset.values[i,j]) for j in range(0,20)])"
   ]
  },
  {
   "cell_type": "markdown",
   "id": "e0383fd1",
   "metadata": {
    "papermill": {
     "duration": 0.01122,
     "end_time": "2022-07-29T23:21:26.812696",
     "exception": false,
     "start_time": "2022-07-29T23:21:26.801476",
     "status": "completed"
    },
    "tags": []
   },
   "source": [
    "# ****Step-3: Take a glance at the records****"
   ]
  },
  {
   "cell_type": "code",
   "execution_count": 3,
   "id": "ab710163",
   "metadata": {
    "execution": {
     "iopub.execute_input": "2022-07-29T23:21:26.836189Z",
     "iopub.status.busy": "2022-07-29T23:21:26.835863Z",
     "iopub.status.idle": "2022-07-29T23:21:26.866572Z",
     "shell.execute_reply": "2022-07-29T23:21:26.865711Z"
    },
    "papermill": {
     "duration": 0.045336,
     "end_time": "2022-07-29T23:21:26.869079",
     "exception": false,
     "start_time": "2022-07-29T23:21:26.823743",
     "status": "completed"
    },
    "tags": []
   },
   "outputs": [
    {
     "data": {
      "text/html": [
       "<div>\n",
       "<style scoped>\n",
       "    .dataframe tbody tr th:only-of-type {\n",
       "        vertical-align: middle;\n",
       "    }\n",
       "\n",
       "    .dataframe tbody tr th {\n",
       "        vertical-align: top;\n",
       "    }\n",
       "\n",
       "    .dataframe thead th {\n",
       "        text-align: right;\n",
       "    }\n",
       "</style>\n",
       "<table border=\"1\" class=\"dataframe\">\n",
       "  <thead>\n",
       "    <tr style=\"text-align: right;\">\n",
       "      <th></th>\n",
       "      <th>0</th>\n",
       "      <th>1</th>\n",
       "      <th>2</th>\n",
       "      <th>3</th>\n",
       "      <th>4</th>\n",
       "      <th>5</th>\n",
       "      <th>6</th>\n",
       "      <th>7</th>\n",
       "      <th>8</th>\n",
       "      <th>9</th>\n",
       "      <th>10</th>\n",
       "      <th>11</th>\n",
       "      <th>12</th>\n",
       "      <th>13</th>\n",
       "      <th>14</th>\n",
       "      <th>15</th>\n",
       "      <th>16</th>\n",
       "      <th>17</th>\n",
       "      <th>18</th>\n",
       "      <th>19</th>\n",
       "    </tr>\n",
       "  </thead>\n",
       "  <tbody>\n",
       "    <tr>\n",
       "      <th>0</th>\n",
       "      <td>shrimp</td>\n",
       "      <td>almonds</td>\n",
       "      <td>avocado</td>\n",
       "      <td>vegetables mix</td>\n",
       "      <td>green grapes</td>\n",
       "      <td>whole weat flour</td>\n",
       "      <td>yams</td>\n",
       "      <td>cottage cheese</td>\n",
       "      <td>energy drink</td>\n",
       "      <td>tomato juice</td>\n",
       "      <td>low fat yogurt</td>\n",
       "      <td>green tea</td>\n",
       "      <td>honey</td>\n",
       "      <td>salad</td>\n",
       "      <td>mineral water</td>\n",
       "      <td>salmon</td>\n",
       "      <td>antioxydant juice</td>\n",
       "      <td>frozen smoothie</td>\n",
       "      <td>spinach</td>\n",
       "      <td>olive oil</td>\n",
       "    </tr>\n",
       "    <tr>\n",
       "      <th>1</th>\n",
       "      <td>burgers</td>\n",
       "      <td>meatballs</td>\n",
       "      <td>eggs</td>\n",
       "      <td>NaN</td>\n",
       "      <td>NaN</td>\n",
       "      <td>NaN</td>\n",
       "      <td>NaN</td>\n",
       "      <td>NaN</td>\n",
       "      <td>NaN</td>\n",
       "      <td>NaN</td>\n",
       "      <td>NaN</td>\n",
       "      <td>NaN</td>\n",
       "      <td>NaN</td>\n",
       "      <td>NaN</td>\n",
       "      <td>NaN</td>\n",
       "      <td>NaN</td>\n",
       "      <td>NaN</td>\n",
       "      <td>NaN</td>\n",
       "      <td>NaN</td>\n",
       "      <td>NaN</td>\n",
       "    </tr>\n",
       "    <tr>\n",
       "      <th>2</th>\n",
       "      <td>chutney</td>\n",
       "      <td>NaN</td>\n",
       "      <td>NaN</td>\n",
       "      <td>NaN</td>\n",
       "      <td>NaN</td>\n",
       "      <td>NaN</td>\n",
       "      <td>NaN</td>\n",
       "      <td>NaN</td>\n",
       "      <td>NaN</td>\n",
       "      <td>NaN</td>\n",
       "      <td>NaN</td>\n",
       "      <td>NaN</td>\n",
       "      <td>NaN</td>\n",
       "      <td>NaN</td>\n",
       "      <td>NaN</td>\n",
       "      <td>NaN</td>\n",
       "      <td>NaN</td>\n",
       "      <td>NaN</td>\n",
       "      <td>NaN</td>\n",
       "      <td>NaN</td>\n",
       "    </tr>\n",
       "    <tr>\n",
       "      <th>3</th>\n",
       "      <td>turkey</td>\n",
       "      <td>avocado</td>\n",
       "      <td>NaN</td>\n",
       "      <td>NaN</td>\n",
       "      <td>NaN</td>\n",
       "      <td>NaN</td>\n",
       "      <td>NaN</td>\n",
       "      <td>NaN</td>\n",
       "      <td>NaN</td>\n",
       "      <td>NaN</td>\n",
       "      <td>NaN</td>\n",
       "      <td>NaN</td>\n",
       "      <td>NaN</td>\n",
       "      <td>NaN</td>\n",
       "      <td>NaN</td>\n",
       "      <td>NaN</td>\n",
       "      <td>NaN</td>\n",
       "      <td>NaN</td>\n",
       "      <td>NaN</td>\n",
       "      <td>NaN</td>\n",
       "    </tr>\n",
       "    <tr>\n",
       "      <th>4</th>\n",
       "      <td>mineral water</td>\n",
       "      <td>milk</td>\n",
       "      <td>energy bar</td>\n",
       "      <td>whole wheat rice</td>\n",
       "      <td>green tea</td>\n",
       "      <td>NaN</td>\n",
       "      <td>NaN</td>\n",
       "      <td>NaN</td>\n",
       "      <td>NaN</td>\n",
       "      <td>NaN</td>\n",
       "      <td>NaN</td>\n",
       "      <td>NaN</td>\n",
       "      <td>NaN</td>\n",
       "      <td>NaN</td>\n",
       "      <td>NaN</td>\n",
       "      <td>NaN</td>\n",
       "      <td>NaN</td>\n",
       "      <td>NaN</td>\n",
       "      <td>NaN</td>\n",
       "      <td>NaN</td>\n",
       "    </tr>\n",
       "    <tr>\n",
       "      <th>...</th>\n",
       "      <td>...</td>\n",
       "      <td>...</td>\n",
       "      <td>...</td>\n",
       "      <td>...</td>\n",
       "      <td>...</td>\n",
       "      <td>...</td>\n",
       "      <td>...</td>\n",
       "      <td>...</td>\n",
       "      <td>...</td>\n",
       "      <td>...</td>\n",
       "      <td>...</td>\n",
       "      <td>...</td>\n",
       "      <td>...</td>\n",
       "      <td>...</td>\n",
       "      <td>...</td>\n",
       "      <td>...</td>\n",
       "      <td>...</td>\n",
       "      <td>...</td>\n",
       "      <td>...</td>\n",
       "      <td>...</td>\n",
       "    </tr>\n",
       "    <tr>\n",
       "      <th>7496</th>\n",
       "      <td>butter</td>\n",
       "      <td>light mayo</td>\n",
       "      <td>fresh bread</td>\n",
       "      <td>NaN</td>\n",
       "      <td>NaN</td>\n",
       "      <td>NaN</td>\n",
       "      <td>NaN</td>\n",
       "      <td>NaN</td>\n",
       "      <td>NaN</td>\n",
       "      <td>NaN</td>\n",
       "      <td>NaN</td>\n",
       "      <td>NaN</td>\n",
       "      <td>NaN</td>\n",
       "      <td>NaN</td>\n",
       "      <td>NaN</td>\n",
       "      <td>NaN</td>\n",
       "      <td>NaN</td>\n",
       "      <td>NaN</td>\n",
       "      <td>NaN</td>\n",
       "      <td>NaN</td>\n",
       "    </tr>\n",
       "    <tr>\n",
       "      <th>7497</th>\n",
       "      <td>burgers</td>\n",
       "      <td>frozen vegetables</td>\n",
       "      <td>eggs</td>\n",
       "      <td>french fries</td>\n",
       "      <td>magazines</td>\n",
       "      <td>green tea</td>\n",
       "      <td>NaN</td>\n",
       "      <td>NaN</td>\n",
       "      <td>NaN</td>\n",
       "      <td>NaN</td>\n",
       "      <td>NaN</td>\n",
       "      <td>NaN</td>\n",
       "      <td>NaN</td>\n",
       "      <td>NaN</td>\n",
       "      <td>NaN</td>\n",
       "      <td>NaN</td>\n",
       "      <td>NaN</td>\n",
       "      <td>NaN</td>\n",
       "      <td>NaN</td>\n",
       "      <td>NaN</td>\n",
       "    </tr>\n",
       "    <tr>\n",
       "      <th>7498</th>\n",
       "      <td>chicken</td>\n",
       "      <td>NaN</td>\n",
       "      <td>NaN</td>\n",
       "      <td>NaN</td>\n",
       "      <td>NaN</td>\n",
       "      <td>NaN</td>\n",
       "      <td>NaN</td>\n",
       "      <td>NaN</td>\n",
       "      <td>NaN</td>\n",
       "      <td>NaN</td>\n",
       "      <td>NaN</td>\n",
       "      <td>NaN</td>\n",
       "      <td>NaN</td>\n",
       "      <td>NaN</td>\n",
       "      <td>NaN</td>\n",
       "      <td>NaN</td>\n",
       "      <td>NaN</td>\n",
       "      <td>NaN</td>\n",
       "      <td>NaN</td>\n",
       "      <td>NaN</td>\n",
       "    </tr>\n",
       "    <tr>\n",
       "      <th>7499</th>\n",
       "      <td>escalope</td>\n",
       "      <td>green tea</td>\n",
       "      <td>NaN</td>\n",
       "      <td>NaN</td>\n",
       "      <td>NaN</td>\n",
       "      <td>NaN</td>\n",
       "      <td>NaN</td>\n",
       "      <td>NaN</td>\n",
       "      <td>NaN</td>\n",
       "      <td>NaN</td>\n",
       "      <td>NaN</td>\n",
       "      <td>NaN</td>\n",
       "      <td>NaN</td>\n",
       "      <td>NaN</td>\n",
       "      <td>NaN</td>\n",
       "      <td>NaN</td>\n",
       "      <td>NaN</td>\n",
       "      <td>NaN</td>\n",
       "      <td>NaN</td>\n",
       "      <td>NaN</td>\n",
       "    </tr>\n",
       "    <tr>\n",
       "      <th>7500</th>\n",
       "      <td>eggs</td>\n",
       "      <td>frozen smoothie</td>\n",
       "      <td>yogurt cake</td>\n",
       "      <td>low fat yogurt</td>\n",
       "      <td>NaN</td>\n",
       "      <td>NaN</td>\n",
       "      <td>NaN</td>\n",
       "      <td>NaN</td>\n",
       "      <td>NaN</td>\n",
       "      <td>NaN</td>\n",
       "      <td>NaN</td>\n",
       "      <td>NaN</td>\n",
       "      <td>NaN</td>\n",
       "      <td>NaN</td>\n",
       "      <td>NaN</td>\n",
       "      <td>NaN</td>\n",
       "      <td>NaN</td>\n",
       "      <td>NaN</td>\n",
       "      <td>NaN</td>\n",
       "      <td>NaN</td>\n",
       "    </tr>\n",
       "  </tbody>\n",
       "</table>\n",
       "<p>7501 rows × 20 columns</p>\n",
       "</div>"
      ],
      "text/plain": [
       "                 0                  1            2                 3   \\\n",
       "0            shrimp            almonds      avocado    vegetables mix   \n",
       "1           burgers          meatballs         eggs               NaN   \n",
       "2           chutney                NaN          NaN               NaN   \n",
       "3            turkey            avocado          NaN               NaN   \n",
       "4     mineral water               milk   energy bar  whole wheat rice   \n",
       "...             ...                ...          ...               ...   \n",
       "7496         butter         light mayo  fresh bread               NaN   \n",
       "7497        burgers  frozen vegetables         eggs      french fries   \n",
       "7498        chicken                NaN          NaN               NaN   \n",
       "7499       escalope          green tea          NaN               NaN   \n",
       "7500           eggs    frozen smoothie  yogurt cake    low fat yogurt   \n",
       "\n",
       "                4                 5     6               7             8   \\\n",
       "0     green grapes  whole weat flour  yams  cottage cheese  energy drink   \n",
       "1              NaN               NaN   NaN             NaN           NaN   \n",
       "2              NaN               NaN   NaN             NaN           NaN   \n",
       "3              NaN               NaN   NaN             NaN           NaN   \n",
       "4        green tea               NaN   NaN             NaN           NaN   \n",
       "...            ...               ...   ...             ...           ...   \n",
       "7496           NaN               NaN   NaN             NaN           NaN   \n",
       "7497     magazines         green tea   NaN             NaN           NaN   \n",
       "7498           NaN               NaN   NaN             NaN           NaN   \n",
       "7499           NaN               NaN   NaN             NaN           NaN   \n",
       "7500           NaN               NaN   NaN             NaN           NaN   \n",
       "\n",
       "                9               10         11     12     13             14  \\\n",
       "0     tomato juice  low fat yogurt  green tea  honey  salad  mineral water   \n",
       "1              NaN             NaN        NaN    NaN    NaN            NaN   \n",
       "2              NaN             NaN        NaN    NaN    NaN            NaN   \n",
       "3              NaN             NaN        NaN    NaN    NaN            NaN   \n",
       "4              NaN             NaN        NaN    NaN    NaN            NaN   \n",
       "...            ...             ...        ...    ...    ...            ...   \n",
       "7496           NaN             NaN        NaN    NaN    NaN            NaN   \n",
       "7497           NaN             NaN        NaN    NaN    NaN            NaN   \n",
       "7498           NaN             NaN        NaN    NaN    NaN            NaN   \n",
       "7499           NaN             NaN        NaN    NaN    NaN            NaN   \n",
       "7500           NaN             NaN        NaN    NaN    NaN            NaN   \n",
       "\n",
       "          15                 16               17       18         19  \n",
       "0     salmon  antioxydant juice  frozen smoothie  spinach  olive oil  \n",
       "1        NaN                NaN              NaN      NaN        NaN  \n",
       "2        NaN                NaN              NaN      NaN        NaN  \n",
       "3        NaN                NaN              NaN      NaN        NaN  \n",
       "4        NaN                NaN              NaN      NaN        NaN  \n",
       "...      ...                ...              ...      ...        ...  \n",
       "7496     NaN                NaN              NaN      NaN        NaN  \n",
       "7497     NaN                NaN              NaN      NaN        NaN  \n",
       "7498     NaN                NaN              NaN      NaN        NaN  \n",
       "7499     NaN                NaN              NaN      NaN        NaN  \n",
       "7500     NaN                NaN              NaN      NaN        NaN  \n",
       "\n",
       "[7501 rows x 20 columns]"
      ]
     },
     "execution_count": 3,
     "metadata": {},
     "output_type": "execute_result"
    }
   ],
   "source": [
    "dataset"
   ]
  },
  {
   "cell_type": "markdown",
   "id": "8b8b7089",
   "metadata": {
    "papermill": {
     "duration": 0.012242,
     "end_time": "2022-07-29T23:21:26.893044",
     "exception": false,
     "start_time": "2022-07-29T23:21:26.880802",
     "status": "completed"
    },
    "tags": []
   },
   "source": [
    "# ****Step-4: Look at the shape****"
   ]
  },
  {
   "cell_type": "code",
   "execution_count": 4,
   "id": "a192ca73",
   "metadata": {
    "execution": {
     "iopub.execute_input": "2022-07-29T23:21:26.917615Z",
     "iopub.status.busy": "2022-07-29T23:21:26.917353Z",
     "iopub.status.idle": "2022-07-29T23:21:26.922963Z",
     "shell.execute_reply": "2022-07-29T23:21:26.922084Z"
    },
    "papermill": {
     "duration": 0.020308,
     "end_time": "2022-07-29T23:21:26.924888",
     "exception": false,
     "start_time": "2022-07-29T23:21:26.904580",
     "status": "completed"
    },
    "tags": []
   },
   "outputs": [
    {
     "data": {
      "text/plain": [
       "(7501, 20)"
      ]
     },
     "execution_count": 4,
     "metadata": {},
     "output_type": "execute_result"
    }
   ],
   "source": [
    "dataset.shape"
   ]
  },
  {
   "cell_type": "markdown",
   "id": "0d3e7561",
   "metadata": {
    "papermill": {
     "duration": 0.011536,
     "end_time": "2022-07-29T23:21:26.948622",
     "exception": false,
     "start_time": "2022-07-29T23:21:26.937086",
     "status": "completed"
    },
    "tags": []
   },
   "source": [
    "# ****Step-5: Convert Pandas DataFrame into a list of lists****"
   ]
  },
  {
   "cell_type": "code",
   "execution_count": 5,
   "id": "8459b754",
   "metadata": {
    "execution": {
     "iopub.execute_input": "2022-07-29T23:21:26.975173Z",
     "iopub.status.busy": "2022-07-29T23:21:26.973609Z",
     "iopub.status.idle": "2022-07-29T23:21:28.011855Z",
     "shell.execute_reply": "2022-07-29T23:21:28.010881Z"
    },
    "papermill": {
     "duration": 1.053977,
     "end_time": "2022-07-29T23:21:28.014259",
     "exception": false,
     "start_time": "2022-07-29T23:21:26.960282",
     "status": "completed"
    },
    "tags": []
   },
   "outputs": [],
   "source": [
    "for i in range(0, 7501):\n",
    "    transactions.append([str(dataset.values[i,j]) for j in range(0,20)])"
   ]
  },
  {
   "cell_type": "code",
   "execution_count": 6,
   "id": "b930fdfc",
   "metadata": {
    "execution": {
     "iopub.execute_input": "2022-07-29T23:21:28.040543Z",
     "iopub.status.busy": "2022-07-29T23:21:28.039911Z",
     "iopub.status.idle": "2022-07-29T23:21:41.372983Z",
     "shell.execute_reply": "2022-07-29T23:21:41.371809Z"
    },
    "papermill": {
     "duration": 13.349153,
     "end_time": "2022-07-29T23:21:41.375729",
     "exception": false,
     "start_time": "2022-07-29T23:21:28.026576",
     "status": "completed"
    },
    "tags": []
   },
   "outputs": [
    {
     "name": "stdout",
     "output_type": "stream",
     "text": [
      "Collecting apyori\r\n",
      "  Downloading apyori-1.1.2.tar.gz (8.6 kB)\r\n",
      "  Preparing metadata (setup.py) ... \u001b[?25l-\b \bdone\r\n",
      "\u001b[?25hBuilding wheels for collected packages: apyori\r\n",
      "  Building wheel for apyori (setup.py) ... \u001b[?25l-\b \b\\\b \bdone\r\n",
      "\u001b[?25h  Created wheel for apyori: filename=apyori-1.1.2-py3-none-any.whl size=5974 sha256=ded9511119ee58b9d5e1562b3a7db41ac2d1cd3913b6e7ae7d7039e68b7465aa\r\n",
      "  Stored in directory: /root/.cache/pip/wheels/cb/f6/e1/57973c631d27efd1a2f375bd6a83b2a616c4021f24aab84080\r\n",
      "Successfully built apyori\r\n",
      "Installing collected packages: apyori\r\n",
      "Successfully installed apyori-1.1.2\r\n",
      "\u001b[33mWARNING: Running pip as the 'root' user can result in broken permissions and conflicting behaviour with the system package manager. It is recommended to use a virtual environment instead: https://pip.pypa.io/warnings/venv\u001b[0m\u001b[33m\r\n",
      "\u001b[0m"
     ]
    }
   ],
   "source": [
    "!pip install apyori"
   ]
  },
  {
   "cell_type": "markdown",
   "id": "c48600be",
   "metadata": {
    "papermill": {
     "duration": 0.012484,
     "end_time": "2022-07-29T23:21:41.401597",
     "exception": false,
     "start_time": "2022-07-29T23:21:41.389113",
     "status": "completed"
    },
    "tags": []
   },
   "source": [
    "# ****Step-6: Build the Apriori model****\n",
    "\n",
    "****We import the apriori function from the apyori module. We store the resulting         output from apriori function in the ‘rules’ variable. To the apriori function, \n",
    "we pass 6 parameters:****\n",
    "\n",
    "****1.      The transactions List as the main inputs****\n",
    "\n",
    "****2.      Minimum support, which we set as 0.003 We get that value by considering that a product should appear at least in 3 transactions in a day. Our data is collected over a week. Hence, the support value should be 3*7/7500 = 0.0028****\n",
    "\n",
    "****3.       Minimum confidence, which we choose to be 0.2 (obtained over-analyzing various results)****\n",
    "\n",
    "****4.      Minimum lift, which we’ve set to 3****\n",
    "\n",
    "****5.     Minimum Length is set to 2, as we are calculating the lift values for buying an item B given another item A is bought, so we take 2 items into consideration.****\n",
    "\n",
    "****6.      Minimum Length is set to 2 using the same logic[6].****"
   ]
  },
  {
   "cell_type": "code",
   "execution_count": 7,
   "id": "af79d11b",
   "metadata": {
    "execution": {
     "iopub.execute_input": "2022-07-29T23:21:41.428466Z",
     "iopub.status.busy": "2022-07-29T23:21:41.427490Z",
     "iopub.status.idle": "2022-07-29T23:21:41.436399Z",
     "shell.execute_reply": "2022-07-29T23:21:41.435500Z"
    },
    "papermill": {
     "duration": 0.024317,
     "end_time": "2022-07-29T23:21:41.438289",
     "exception": false,
     "start_time": "2022-07-29T23:21:41.413972",
     "status": "completed"
    },
    "tags": []
   },
   "outputs": [],
   "source": [
    "from apyori import apriori\n",
    "rules = apriori(transactions = transactions, min_support = 0.003, min_cinfidence = 0.2, min_lift = 3, min_length = 2, max_length = 2)"
   ]
  },
  {
   "cell_type": "markdown",
   "id": "2d60cbea",
   "metadata": {
    "papermill": {
     "duration": 0.012273,
     "end_time": "2022-07-29T23:21:41.463365",
     "exception": false,
     "start_time": "2022-07-29T23:21:41.451092",
     "status": "completed"
    },
    "tags": []
   },
   "source": [
    "# ****Step-7: Print out the number of rules as list****"
   ]
  },
  {
   "cell_type": "code",
   "execution_count": 8,
   "id": "978901b9",
   "metadata": {
    "execution": {
     "iopub.execute_input": "2022-07-29T23:21:41.490090Z",
     "iopub.status.busy": "2022-07-29T23:21:41.489277Z",
     "iopub.status.idle": "2022-07-29T23:21:41.694285Z",
     "shell.execute_reply": "2022-07-29T23:21:41.693319Z"
    },
    "papermill": {
     "duration": 0.220697,
     "end_time": "2022-07-29T23:21:41.696663",
     "exception": false,
     "start_time": "2022-07-29T23:21:41.475966",
     "status": "completed"
    },
    "tags": []
   },
   "outputs": [],
   "source": [
    "results = list(rules)"
   ]
  },
  {
   "cell_type": "markdown",
   "id": "71483d47",
   "metadata": {
    "papermill": {
     "duration": 0.012192,
     "end_time": "2022-07-29T23:21:41.721662",
     "exception": false,
     "start_time": "2022-07-29T23:21:41.709470",
     "status": "completed"
    },
    "tags": []
   },
   "source": [
    "# ****Step-8: Have a glance at the rules****"
   ]
  },
  {
   "cell_type": "code",
   "execution_count": 9,
   "id": "2354e0c3",
   "metadata": {
    "execution": {
     "iopub.execute_input": "2022-07-29T23:21:41.747694Z",
     "iopub.status.busy": "2022-07-29T23:21:41.747349Z",
     "iopub.status.idle": "2022-07-29T23:21:41.753701Z",
     "shell.execute_reply": "2022-07-29T23:21:41.752766Z"
    },
    "papermill": {
     "duration": 0.021605,
     "end_time": "2022-07-29T23:21:41.755663",
     "exception": false,
     "start_time": "2022-07-29T23:21:41.734058",
     "status": "completed"
    },
    "tags": []
   },
   "outputs": [
    {
     "data": {
      "text/plain": [
       "[RelationRecord(items=frozenset({'brownies', 'cottage cheese'}), support=0.0034662045060658577, ordered_statistics=[OrderedStatistic(items_base=frozenset({'brownies'}), items_add=frozenset({'cottage cheese'}), confidence=0.10276679841897232, lift=3.225329518580382), OrderedStatistic(items_base=frozenset({'cottage cheese'}), items_add=frozenset({'brownies'}), confidence=0.10878661087866107, lift=3.2253295185803816)]),\n",
       " RelationRecord(items=frozenset({'light cream', 'chicken'}), support=0.004532728969470737, ordered_statistics=[OrderedStatistic(items_base=frozenset({'chicken'}), items_add=frozenset({'light cream'}), confidence=0.07555555555555556, lift=4.843950617283951), OrderedStatistic(items_base=frozenset({'light cream'}), items_add=frozenset({'chicken'}), confidence=0.29059829059829057, lift=4.84395061728395)]),\n",
       " RelationRecord(items=frozenset({'escalope', 'mushroom cream sauce'}), support=0.005732568990801226, ordered_statistics=[OrderedStatistic(items_base=frozenset({'escalope'}), items_add=frozenset({'mushroom cream sauce'}), confidence=0.0722689075630252, lift=3.7908326967150496), OrderedStatistic(items_base=frozenset({'mushroom cream sauce'}), items_add=frozenset({'escalope'}), confidence=0.3006993006993007, lift=3.790832696715049)]),\n",
       " RelationRecord(items=frozenset({'escalope', 'pasta'}), support=0.005865884548726837, ordered_statistics=[OrderedStatistic(items_base=frozenset({'escalope'}), items_add=frozenset({'pasta'}), confidence=0.07394957983193277, lift=4.700811850163794), OrderedStatistic(items_base=frozenset({'pasta'}), items_add=frozenset({'escalope'}), confidence=0.3728813559322034, lift=4.700811850163794)]),\n",
       " RelationRecord(items=frozenset({'fresh bread', 'tomato juice'}), support=0.004266097853619517, ordered_statistics=[OrderedStatistic(items_base=frozenset({'fresh bread'}), items_add=frozenset({'tomato juice'}), confidence=0.09907120743034055, lift=3.2593558198902826), OrderedStatistic(items_base=frozenset({'tomato juice'}), items_add=frozenset({'fresh bread'}), confidence=0.14035087719298245, lift=3.2593558198902826)]),\n",
       " RelationRecord(items=frozenset({'honey', 'fresh tuna'}), support=0.003999466737768298, ordered_statistics=[OrderedStatistic(items_base=frozenset({'fresh tuna'}), items_add=frozenset({'honey'}), confidence=0.17964071856287428, lift=3.7850703088205613), OrderedStatistic(items_base=frozenset({'honey'}), items_add=frozenset({'fresh tuna'}), confidence=0.08426966292134831, lift=3.7850703088205613)]),\n",
       " RelationRecord(items=frozenset({'honey', 'fromage blanc'}), support=0.003332888948140248, ordered_statistics=[OrderedStatistic(items_base=frozenset({'fromage blanc'}), items_add=frozenset({'honey'}), confidence=0.2450980392156863, lift=5.164270764485569), OrderedStatistic(items_base=frozenset({'honey'}), items_add=frozenset({'fromage blanc'}), confidence=0.0702247191011236, lift=5.16427076448557)]),\n",
       " RelationRecord(items=frozenset({'ground beef', 'herb & pepper'}), support=0.015997866951073192, ordered_statistics=[OrderedStatistic(items_base=frozenset({'ground beef'}), items_add=frozenset({'herb & pepper'}), confidence=0.1628222523744912, lift=3.291993841134928), OrderedStatistic(items_base=frozenset({'herb & pepper'}), items_add=frozenset({'ground beef'}), confidence=0.3234501347708895, lift=3.2919938411349285)]),\n",
       " RelationRecord(items=frozenset({'ground beef', 'tomato sauce'}), support=0.005332622317024397, ordered_statistics=[OrderedStatistic(items_base=frozenset({'ground beef'}), items_add=frozenset({'tomato sauce'}), confidence=0.054274084124830396, lift=3.840659481324083), OrderedStatistic(items_base=frozenset({'tomato sauce'}), items_add=frozenset({'ground beef'}), confidence=0.3773584905660377, lift=3.840659481324083)]),\n",
       " RelationRecord(items=frozenset({'light cream', 'olive oil'}), support=0.003199573390214638, ordered_statistics=[OrderedStatistic(items_base=frozenset({'light cream'}), items_add=frozenset({'olive oil'}), confidence=0.20512820512820515, lift=3.1147098515519573), OrderedStatistic(items_base=frozenset({'olive oil'}), items_add=frozenset({'light cream'}), confidence=0.048582995951417005, lift=3.114709851551957)]),\n",
       " RelationRecord(items=frozenset({'olive oil', 'whole wheat pasta'}), support=0.007998933475536596, ordered_statistics=[OrderedStatistic(items_base=frozenset({'olive oil'}), items_add=frozenset({'whole wheat pasta'}), confidence=0.12145748987854252, lift=4.1224100976422955), OrderedStatistic(items_base=frozenset({'whole wheat pasta'}), items_add=frozenset({'olive oil'}), confidence=0.2714932126696833, lift=4.122410097642296)]),\n",
       " RelationRecord(items=frozenset({'pasta', 'shrimp'}), support=0.005065991201173177, ordered_statistics=[OrderedStatistic(items_base=frozenset({'pasta'}), items_add=frozenset({'shrimp'}), confidence=0.3220338983050847, lift=4.506672147735896), OrderedStatistic(items_base=frozenset({'shrimp'}), items_add=frozenset({'pasta'}), confidence=0.0708955223880597, lift=4.506672147735896)])]"
      ]
     },
     "execution_count": 9,
     "metadata": {},
     "output_type": "execute_result"
    }
   ],
   "source": [
    "results"
   ]
  },
  {
   "cell_type": "markdown",
   "id": "6c60bccd",
   "metadata": {
    "papermill": {
     "duration": 0.01233,
     "end_time": "2022-07-29T23:21:41.780768",
     "exception": false,
     "start_time": "2022-07-29T23:21:41.768438",
     "status": "completed"
    },
    "tags": []
   },
   "source": [
    "* ![](https://miro.medium.com/max/1400/1*0xyxcrJhOTncryWyJ7BJyQ.png)"
   ]
  },
  {
   "cell_type": "markdown",
   "id": "49fc30bc",
   "metadata": {
    "papermill": {
     "duration": 0.012243,
     "end_time": "2022-07-29T23:21:41.805510",
     "exception": false,
     "start_time": "2022-07-29T23:21:41.793267",
     "status": "completed"
    },
    "tags": []
   },
   "source": [
    "# ****Step-9: Visualizing the results****\n",
    "\n",
    "****In the LHS variable, we store the first item from all the results, from which we obtain the second item that is bought after that item is already bought, which is now stored in the RHS variable.\n",
    "The supports, confidences and lifts store all the support, confidence and lift values from the results [6].****"
   ]
  },
  {
   "cell_type": "code",
   "execution_count": 10,
   "id": "3a094b6d",
   "metadata": {
    "execution": {
     "iopub.execute_input": "2022-07-29T23:21:41.831894Z",
     "iopub.status.busy": "2022-07-29T23:21:41.831597Z",
     "iopub.status.idle": "2022-07-29T23:21:41.839985Z",
     "shell.execute_reply": "2022-07-29T23:21:41.839092Z"
    },
    "papermill": {
     "duration": 0.023819,
     "end_time": "2022-07-29T23:21:41.841786",
     "exception": false,
     "start_time": "2022-07-29T23:21:41.817967",
     "status": "completed"
    },
    "tags": []
   },
   "outputs": [],
   "source": [
    "def inspect(results):\n",
    "    lhs         =[tuple(result[2][0][0])[0] for result in results]\n",
    "    rhs         =[tuple(result[2][0][1])[0] for result in results]\n",
    "    supports    =[result[1] for result in results]\n",
    "    confidences =[result[2][0][2] for result in results]\n",
    "    lifts        =[result[2][0][3] for result in results]\n",
    "    return list (zip(lhs, rhs, supports, confidences, lifts))\n",
    "resultsinDataFrame = pd.DataFrame(inspect(results), columns = [\"Left hand side\", \"Right hand side\", \"Support\", \"Confidence\", \"Lift\"])"
   ]
  },
  {
   "cell_type": "markdown",
   "id": "7e8eecdf",
   "metadata": {
    "papermill": {
     "duration": 0.012286,
     "end_time": "2022-07-29T23:21:41.866936",
     "exception": false,
     "start_time": "2022-07-29T23:21:41.854650",
     "status": "completed"
    },
    "tags": []
   },
   "source": [
    "****Finally, we store these variables into one dataframe, so that they are easier to visualize.****"
   ]
  },
  {
   "cell_type": "code",
   "execution_count": 11,
   "id": "c038cdae",
   "metadata": {
    "execution": {
     "iopub.execute_input": "2022-07-29T23:21:41.894182Z",
     "iopub.status.busy": "2022-07-29T23:21:41.893565Z",
     "iopub.status.idle": "2022-07-29T23:21:41.907563Z",
     "shell.execute_reply": "2022-07-29T23:21:41.906412Z"
    },
    "papermill": {
     "duration": 0.029952,
     "end_time": "2022-07-29T23:21:41.909551",
     "exception": false,
     "start_time": "2022-07-29T23:21:41.879599",
     "status": "completed"
    },
    "tags": []
   },
   "outputs": [
    {
     "data": {
      "text/html": [
       "<div>\n",
       "<style scoped>\n",
       "    .dataframe tbody tr th:only-of-type {\n",
       "        vertical-align: middle;\n",
       "    }\n",
       "\n",
       "    .dataframe tbody tr th {\n",
       "        vertical-align: top;\n",
       "    }\n",
       "\n",
       "    .dataframe thead th {\n",
       "        text-align: right;\n",
       "    }\n",
       "</style>\n",
       "<table border=\"1\" class=\"dataframe\">\n",
       "  <thead>\n",
       "    <tr style=\"text-align: right;\">\n",
       "      <th></th>\n",
       "      <th>Left hand side</th>\n",
       "      <th>Right hand side</th>\n",
       "      <th>Support</th>\n",
       "      <th>Confidence</th>\n",
       "      <th>Lift</th>\n",
       "    </tr>\n",
       "  </thead>\n",
       "  <tbody>\n",
       "    <tr>\n",
       "      <th>0</th>\n",
       "      <td>brownies</td>\n",
       "      <td>cottage cheese</td>\n",
       "      <td>0.003466</td>\n",
       "      <td>0.102767</td>\n",
       "      <td>3.225330</td>\n",
       "    </tr>\n",
       "    <tr>\n",
       "      <th>1</th>\n",
       "      <td>chicken</td>\n",
       "      <td>light cream</td>\n",
       "      <td>0.004533</td>\n",
       "      <td>0.075556</td>\n",
       "      <td>4.843951</td>\n",
       "    </tr>\n",
       "    <tr>\n",
       "      <th>2</th>\n",
       "      <td>escalope</td>\n",
       "      <td>mushroom cream sauce</td>\n",
       "      <td>0.005733</td>\n",
       "      <td>0.072269</td>\n",
       "      <td>3.790833</td>\n",
       "    </tr>\n",
       "    <tr>\n",
       "      <th>3</th>\n",
       "      <td>escalope</td>\n",
       "      <td>pasta</td>\n",
       "      <td>0.005866</td>\n",
       "      <td>0.073950</td>\n",
       "      <td>4.700812</td>\n",
       "    </tr>\n",
       "    <tr>\n",
       "      <th>4</th>\n",
       "      <td>fresh bread</td>\n",
       "      <td>tomato juice</td>\n",
       "      <td>0.004266</td>\n",
       "      <td>0.099071</td>\n",
       "      <td>3.259356</td>\n",
       "    </tr>\n",
       "    <tr>\n",
       "      <th>5</th>\n",
       "      <td>fresh tuna</td>\n",
       "      <td>honey</td>\n",
       "      <td>0.003999</td>\n",
       "      <td>0.179641</td>\n",
       "      <td>3.785070</td>\n",
       "    </tr>\n",
       "    <tr>\n",
       "      <th>6</th>\n",
       "      <td>fromage blanc</td>\n",
       "      <td>honey</td>\n",
       "      <td>0.003333</td>\n",
       "      <td>0.245098</td>\n",
       "      <td>5.164271</td>\n",
       "    </tr>\n",
       "    <tr>\n",
       "      <th>7</th>\n",
       "      <td>ground beef</td>\n",
       "      <td>herb &amp; pepper</td>\n",
       "      <td>0.015998</td>\n",
       "      <td>0.162822</td>\n",
       "      <td>3.291994</td>\n",
       "    </tr>\n",
       "    <tr>\n",
       "      <th>8</th>\n",
       "      <td>ground beef</td>\n",
       "      <td>tomato sauce</td>\n",
       "      <td>0.005333</td>\n",
       "      <td>0.054274</td>\n",
       "      <td>3.840659</td>\n",
       "    </tr>\n",
       "    <tr>\n",
       "      <th>9</th>\n",
       "      <td>light cream</td>\n",
       "      <td>olive oil</td>\n",
       "      <td>0.003200</td>\n",
       "      <td>0.205128</td>\n",
       "      <td>3.114710</td>\n",
       "    </tr>\n",
       "    <tr>\n",
       "      <th>10</th>\n",
       "      <td>olive oil</td>\n",
       "      <td>whole wheat pasta</td>\n",
       "      <td>0.007999</td>\n",
       "      <td>0.121457</td>\n",
       "      <td>4.122410</td>\n",
       "    </tr>\n",
       "    <tr>\n",
       "      <th>11</th>\n",
       "      <td>pasta</td>\n",
       "      <td>shrimp</td>\n",
       "      <td>0.005066</td>\n",
       "      <td>0.322034</td>\n",
       "      <td>4.506672</td>\n",
       "    </tr>\n",
       "  </tbody>\n",
       "</table>\n",
       "</div>"
      ],
      "text/plain": [
       "   Left hand side       Right hand side   Support  Confidence      Lift\n",
       "0        brownies        cottage cheese  0.003466    0.102767  3.225330\n",
       "1         chicken           light cream  0.004533    0.075556  4.843951\n",
       "2        escalope  mushroom cream sauce  0.005733    0.072269  3.790833\n",
       "3        escalope                 pasta  0.005866    0.073950  4.700812\n",
       "4     fresh bread          tomato juice  0.004266    0.099071  3.259356\n",
       "5      fresh tuna                 honey  0.003999    0.179641  3.785070\n",
       "6   fromage blanc                 honey  0.003333    0.245098  5.164271\n",
       "7     ground beef         herb & pepper  0.015998    0.162822  3.291994\n",
       "8     ground beef          tomato sauce  0.005333    0.054274  3.840659\n",
       "9     light cream             olive oil  0.003200    0.205128  3.114710\n",
       "10      olive oil     whole wheat pasta  0.007999    0.121457  4.122410\n",
       "11          pasta                shrimp  0.005066    0.322034  4.506672"
      ]
     },
     "execution_count": 11,
     "metadata": {},
     "output_type": "execute_result"
    }
   ],
   "source": [
    "resultsinDataFrame"
   ]
  },
  {
   "cell_type": "markdown",
   "id": "0dcf681b",
   "metadata": {
    "papermill": {
     "duration": 0.012556,
     "end_time": "2022-07-29T23:21:41.935459",
     "exception": false,
     "start_time": "2022-07-29T23:21:41.922903",
     "status": "completed"
    },
    "tags": []
   },
   "source": [
    "# ****Now, we sort these final outputs in the descending order of lifts.****"
   ]
  },
  {
   "cell_type": "code",
   "execution_count": 12,
   "id": "b7b081a5",
   "metadata": {
    "execution": {
     "iopub.execute_input": "2022-07-29T23:21:41.963213Z",
     "iopub.status.busy": "2022-07-29T23:21:41.962429Z",
     "iopub.status.idle": "2022-07-29T23:21:41.984058Z",
     "shell.execute_reply": "2022-07-29T23:21:41.983092Z"
    },
    "papermill": {
     "duration": 0.037417,
     "end_time": "2022-07-29T23:21:41.986216",
     "exception": false,
     "start_time": "2022-07-29T23:21:41.948799",
     "status": "completed"
    },
    "tags": []
   },
   "outputs": [
    {
     "data": {
      "text/html": [
       "<div>\n",
       "<style scoped>\n",
       "    .dataframe tbody tr th:only-of-type {\n",
       "        vertical-align: middle;\n",
       "    }\n",
       "\n",
       "    .dataframe tbody tr th {\n",
       "        vertical-align: top;\n",
       "    }\n",
       "\n",
       "    .dataframe thead th {\n",
       "        text-align: right;\n",
       "    }\n",
       "</style>\n",
       "<table border=\"1\" class=\"dataframe\">\n",
       "  <thead>\n",
       "    <tr style=\"text-align: right;\">\n",
       "      <th></th>\n",
       "      <th>Left hand side</th>\n",
       "      <th>Right hand side</th>\n",
       "      <th>Support</th>\n",
       "      <th>Confidence</th>\n",
       "      <th>Lift</th>\n",
       "    </tr>\n",
       "  </thead>\n",
       "  <tbody>\n",
       "    <tr>\n",
       "      <th>6</th>\n",
       "      <td>fromage blanc</td>\n",
       "      <td>honey</td>\n",
       "      <td>0.003333</td>\n",
       "      <td>0.245098</td>\n",
       "      <td>5.164271</td>\n",
       "    </tr>\n",
       "    <tr>\n",
       "      <th>1</th>\n",
       "      <td>chicken</td>\n",
       "      <td>light cream</td>\n",
       "      <td>0.004533</td>\n",
       "      <td>0.075556</td>\n",
       "      <td>4.843951</td>\n",
       "    </tr>\n",
       "    <tr>\n",
       "      <th>3</th>\n",
       "      <td>escalope</td>\n",
       "      <td>pasta</td>\n",
       "      <td>0.005866</td>\n",
       "      <td>0.073950</td>\n",
       "      <td>4.700812</td>\n",
       "    </tr>\n",
       "    <tr>\n",
       "      <th>11</th>\n",
       "      <td>pasta</td>\n",
       "      <td>shrimp</td>\n",
       "      <td>0.005066</td>\n",
       "      <td>0.322034</td>\n",
       "      <td>4.506672</td>\n",
       "    </tr>\n",
       "    <tr>\n",
       "      <th>10</th>\n",
       "      <td>olive oil</td>\n",
       "      <td>whole wheat pasta</td>\n",
       "      <td>0.007999</td>\n",
       "      <td>0.121457</td>\n",
       "      <td>4.122410</td>\n",
       "    </tr>\n",
       "    <tr>\n",
       "      <th>8</th>\n",
       "      <td>ground beef</td>\n",
       "      <td>tomato sauce</td>\n",
       "      <td>0.005333</td>\n",
       "      <td>0.054274</td>\n",
       "      <td>3.840659</td>\n",
       "    </tr>\n",
       "    <tr>\n",
       "      <th>2</th>\n",
       "      <td>escalope</td>\n",
       "      <td>mushroom cream sauce</td>\n",
       "      <td>0.005733</td>\n",
       "      <td>0.072269</td>\n",
       "      <td>3.790833</td>\n",
       "    </tr>\n",
       "    <tr>\n",
       "      <th>5</th>\n",
       "      <td>fresh tuna</td>\n",
       "      <td>honey</td>\n",
       "      <td>0.003999</td>\n",
       "      <td>0.179641</td>\n",
       "      <td>3.785070</td>\n",
       "    </tr>\n",
       "    <tr>\n",
       "      <th>7</th>\n",
       "      <td>ground beef</td>\n",
       "      <td>herb &amp; pepper</td>\n",
       "      <td>0.015998</td>\n",
       "      <td>0.162822</td>\n",
       "      <td>3.291994</td>\n",
       "    </tr>\n",
       "    <tr>\n",
       "      <th>4</th>\n",
       "      <td>fresh bread</td>\n",
       "      <td>tomato juice</td>\n",
       "      <td>0.004266</td>\n",
       "      <td>0.099071</td>\n",
       "      <td>3.259356</td>\n",
       "    </tr>\n",
       "  </tbody>\n",
       "</table>\n",
       "</div>"
      ],
      "text/plain": [
       "   Left hand side       Right hand side   Support  Confidence      Lift\n",
       "6   fromage blanc                 honey  0.003333    0.245098  5.164271\n",
       "1         chicken           light cream  0.004533    0.075556  4.843951\n",
       "3        escalope                 pasta  0.005866    0.073950  4.700812\n",
       "11          pasta                shrimp  0.005066    0.322034  4.506672\n",
       "10      olive oil     whole wheat pasta  0.007999    0.121457  4.122410\n",
       "8     ground beef          tomato sauce  0.005333    0.054274  3.840659\n",
       "2        escalope  mushroom cream sauce  0.005733    0.072269  3.790833\n",
       "5      fresh tuna                 honey  0.003999    0.179641  3.785070\n",
       "7     ground beef         herb & pepper  0.015998    0.162822  3.291994\n",
       "4     fresh bread          tomato juice  0.004266    0.099071  3.259356"
      ]
     },
     "execution_count": 12,
     "metadata": {},
     "output_type": "execute_result"
    }
   ],
   "source": [
    "resultsinDataFrame.nlargest(n = 10, columns = \"Lift\")"
   ]
  },
  {
   "cell_type": "markdown",
   "id": "9283ebdd",
   "metadata": {
    "papermill": {
     "duration": 0.013048,
     "end_time": "2022-07-29T23:21:42.012325",
     "exception": false,
     "start_time": "2022-07-29T23:21:41.999277",
     "status": "completed"
    },
    "tags": []
   },
   "source": [
    "****This is the final result of our apriori implementation in python. The SuperMarket will use this data to boost their sales and prioritize giving offers on the pair of items with greater Lift values [6].****"
   ]
  },
  {
   "cell_type": "markdown",
   "id": "19220fd2",
   "metadata": {
    "papermill": {
     "duration": 0.012772,
     "end_time": "2022-07-29T23:21:42.038559",
     "exception": false,
     "start_time": "2022-07-29T23:21:42.025787",
     "status": "completed"
    },
    "tags": []
   },
   "source": [
    "# ****Why Apriori?****\n",
    "\n",
    "****1.   It is an easy-to-implement and easy-to-understand algorithm.****\n",
    "   \n",
    "****2.   It can be easily implemented on large datasets.****"
   ]
  },
  {
   "cell_type": "markdown",
   "id": "a9efe1f1",
   "metadata": {
    "papermill": {
     "duration": 0.012816,
     "end_time": "2022-07-29T23:21:42.064254",
     "exception": false,
     "start_time": "2022-07-29T23:21:42.051438",
     "status": "completed"
    },
    "tags": []
   },
   "source": [
    "# ****Limitations of Apriori Algorithm****\n",
    "\n",
    "****Despite being a simple one, Apriori algorithms have some limitations including:****\n",
    "\n",
    "*   ****Waste of time when it comes to handling a large number of candidates with frequent itemsets.****\n",
    "\n",
    "*    ****The efficiency of this algorithm goes down when there is a large number of transactions going on through a limited memory capacity.****\n",
    "\n",
    "*     ****Required high computation power and need to scan the entire database[4].****"
   ]
  },
  {
   "cell_type": "markdown",
   "id": "34be7a51",
   "metadata": {
    "papermill": {
     "duration": 0.012797,
     "end_time": "2022-07-29T23:21:42.089994",
     "exception": false,
     "start_time": "2022-07-29T23:21:42.077197",
     "status": "completed"
    },
    "tags": []
   },
   "source": [
    "# ****Summary****"
   ]
  },
  {
   "cell_type": "markdown",
   "id": "e40ff53b",
   "metadata": {
    "papermill": {
     "duration": 0.012879,
     "end_time": "2022-07-29T23:21:42.116312",
     "exception": false,
     "start_time": "2022-07-29T23:21:42.103433",
     "status": "completed"
    },
    "tags": []
   },
   "source": [
    "![](https://miro.medium.com/max/1400/1*MIXTYPvJwc7uU01LR397jQ.png)"
   ]
  },
  {
   "cell_type": "markdown",
   "id": "83744d56",
   "metadata": {
    "papermill": {
     "duration": 0.012819,
     "end_time": "2022-07-29T23:21:42.142783",
     "exception": false,
     "start_time": "2022-07-29T23:21:42.129964",
     "status": "completed"
    },
    "tags": []
   },
   "source": [
    "****Association rule learning is a type of unsupervised learning technique that checks for the dependency of one data item on another data item and maps accordingly so that it can be more profitable. It tries to find some interesting relations or associations among the variables of the dataset. It is based on different rules to discover the interesting relations between variables in the database. The flowchart above will help summarize the entire working of the algorithm[2].****"
   ]
  },
  {
   "cell_type": "markdown",
   "id": "2f3d1f26",
   "metadata": {
    "papermill": {
     "duration": 0.012957,
     "end_time": "2022-07-29T23:21:42.169371",
     "exception": false,
     "start_time": "2022-07-29T23:21:42.156414",
     "status": "completed"
    },
    "tags": []
   },
   "source": [
    "References:\n",
    "\n",
    "[1] https://www.softwaretestinghelp.com/apriori-algorithm/\n",
    "\n",
    "[2] https://www.javatpoint.com/association-rule-learning\n",
    "\n",
    "[3] https://towardsdatascience.com/underrated-machine-learning- algorithms-apriori-1b1d7a8b7bc\n",
    "\n",
    "[4] https://intellipaat.com/blog/data-science-apriori-algorithm/\n",
    "\n",
    "[5] Patterns of user involvement in experiment-driven software development, authors.(S. Yaman), (F. Fagerholm), (M. Munezero), (T.Männistö).December 2019, https://www.journals.elsevier.com/information-and-software-technology\n",
    "\n",
    "[6] https://djinit-ai.github.io/2020/09/22/apriori-algorithm.html#understanding-our-used-case\n",
    "\n",
    "[7] https://www.datacamp.com/tutorial/market-basket-analysis-r\n",
    "\n",
    "[8] https://www.researchgate.net/figure/Flowchart-of-Apriori-algorithm_fig2_351361530https://www.researchgate.net/figure/Flowchart-of-Apriori-algorithm_fig2_351361530"
   ]
  },
  {
   "cell_type": "markdown",
   "id": "bd6d122d",
   "metadata": {
    "papermill": {
     "duration": 0.013232,
     "end_time": "2022-07-29T23:21:42.195712",
     "exception": false,
     "start_time": "2022-07-29T23:21:42.182480",
     "status": "completed"
    },
    "tags": []
   },
   "source": [
    " # ****Writer: [Parisan Ahmadi](https://www.kaggle.com/parisanahmadi)****\n",
    "\n",
    "****Contact: [Medium](https://medium.com/@parisan.ahmadi), [Github](https://github.com/parisa-ahmadi)**** , ****[Parisan's Published Article in LevelUpCoding Journal](https://levelup.gitconnected.com/how-to-solve-the-apriori-algorithm-in-a-simple-way-from-scratch-9540cfc5c11a)****"
   ]
  }
 ],
 "metadata": {
  "kernelspec": {
   "display_name": "Python 3",
   "language": "python",
   "name": "python3"
  },
  "language_info": {
   "codemirror_mode": {
    "name": "ipython",
    "version": 3
   },
   "file_extension": ".py",
   "mimetype": "text/x-python",
   "name": "python",
   "nbconvert_exporter": "python",
   "pygments_lexer": "ipython3",
   "version": "3.7.12"
  },
  "papermill": {
   "default_parameters": {},
   "duration": 25.681495,
   "end_time": "2022-07-29T23:21:42.727846",
   "environment_variables": {},
   "exception": null,
   "input_path": "__notebook__.ipynb",
   "output_path": "__notebook__.ipynb",
   "parameters": {},
   "start_time": "2022-07-29T23:21:17.046351",
   "version": "2.3.4"
  }
 },
 "nbformat": 4,
 "nbformat_minor": 5
}
