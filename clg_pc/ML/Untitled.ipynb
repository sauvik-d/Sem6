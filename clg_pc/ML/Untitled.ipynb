{
 "cells": [
  {
   "cell_type": "code",
   "execution_count": 3,
   "id": "d3c0e347-2bf5-4765-9e7b-c2d768ad6c37",
   "metadata": {},
   "outputs": [],
   "source": [
    "import csv\n",
    "import random\n",
    "\n",
    "# Define possible values for 'actual' and 'predicted' columns\n",
    "labels = ['spam', 'not spam']\n",
    "\n",
    "# Create 50 rows of random data\n",
    "data = [[\"actual\", \"predicted\"]]  # header row\n",
    "for _ in range(50):\n",
    "    actual = random.choice(labels)\n",
    "    predicted = random.choice(labels)\n",
    "    data.append([actual, predicted])\n",
    "\n",
    "# File path to save the CSV file\n",
    "file_path = \"/home/cslab300/Desktop/720/spam_predictions_50_rows.csv\"\n",
    "\n",
    "# Writing to CSV\n",
    "with open(file_path, mode=\"w\", newline=\"\") as file:\n",
    "    writer = csv.writer(file)\n",
    "    writer.writerows(data)\n",
    "\n"
   ]
  },
  {
   "cell_type": "code",
   "execution_count": null,
   "id": "0ef9eaab-bb31-4e02-a55b-49b0f3355f0a",
   "metadata": {},
   "outputs": [],
   "source": []
  }
 ],
 "metadata": {
  "kernelspec": {
   "display_name": "Python 3 (ipykernel)",
   "language": "python",
   "name": "python3"
  },
  "language_info": {
   "codemirror_mode": {
    "name": "ipython",
    "version": 3
   },
   "file_extension": ".py",
   "mimetype": "text/x-python",
   "name": "python",
   "nbconvert_exporter": "python",
   "pygments_lexer": "ipython3",
   "version": "3.10.12"
  }
 },
 "nbformat": 4,
 "nbformat_minor": 5
}
