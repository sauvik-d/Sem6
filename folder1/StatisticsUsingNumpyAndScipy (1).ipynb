{
 "cells": [
  {
   "cell_type": "markdown",
   "metadata": {
    "id": "DGneEMSyvrF4"
   },
   "source": [
    "# **Basic Statistical Functions using Numpy and Scipy**"
   ]
  },
  {
   "cell_type": "markdown",
   "metadata": {
    "id": "QyAN9JmVm1hW"
   },
   "source": [
    "**Using NumPy Module**"
   ]
  },
  {
   "cell_type": "code",
   "execution_count": null,
   "metadata": {
    "id": "zp7QCxPOhzBe"
   },
   "outputs": [],
   "source": [
    "import numpy as np"
   ]
  },
  {
   "cell_type": "markdown",
   "metadata": {
    "id": "nbSs55YjjBlt"
   },
   "source": [
    "**Statistical Operation**\n",
    "\n",
    "1. mean()- This function basically calculates the average from an array of data."
   ]
  },
  {
   "cell_type": "code",
   "execution_count": null,
   "metadata": {
    "colab": {
     "base_uri": "https://localhost:8080/"
    },
    "executionInfo": {
     "elapsed": 593,
     "status": "ok",
     "timestamp": 1738045025911,
     "user": {
      "displayName": "Arnav",
      "userId": "10147333102024527908"
     },
     "user_tz": -330
    },
    "id": "fiybI9_WjZkm",
    "outputId": "16b3110f-2f22-4fe7-8aae-178e1263fec1"
   },
   "outputs": [
    {
     "name": "stdout",
     "output_type": "stream",
     "text": [
      "Output of list items in x\n",
      "\n",
      "3.0\n"
     ]
    }
   ],
   "source": [
    "x=np.array([1,2,3,4,5])\n",
    "print(\"Output of list items in x\\n\")\n",
    "print(x.mean())"
   ]
  },
  {
   "cell_type": "markdown",
   "metadata": {
    "id": "nWVRgFcLkuLD"
   },
   "source": [
    "Here below, first we have created the 2D array named array1. We then calculated the mean using np.mean().\n",
    "\n",
    "np.mean(array1) - calculates the mean over the entire array\n",
    "\n",
    "np.mean(array1, axis=0) - calculates the mean along vertical axis\n",
    "\n",
    "np.mean(array1, axis=1) calculates the mean along horizontal axis"
   ]
  },
  {
   "cell_type": "code",
   "execution_count": null,
   "metadata": {
    "colab": {
     "base_uri": "https://localhost:8080/"
    },
    "executionInfo": {
     "elapsed": 413,
     "status": "ok",
     "timestamp": 1738045375107,
     "user": {
      "displayName": "Arnav",
      "userId": "10147333102024527908"
     },
     "user_tz": -330
    },
    "id": "_CChQ98sk37M",
    "outputId": "d923ac76-0481-4e32-b6dd-f20feed9798c"
   },
   "outputs": [
    {
     "name": "stdout",
     "output_type": "stream",
     "text": [
      "Entire Array: 4.0\n",
      "Along Vertical Axis: [3. 5.]\n",
      "Along Horizontal Axis : [2. 6.]\n"
     ]
    }
   ],
   "source": [
    "# create a 2D array\n",
    "array1 = np.array([[1, 3],\n",
    "                 [5, 7]])\n",
    "\n",
    "# calculate the mean of the entire array\n",
    "result1 = np.mean(array1)\n",
    "print(\"Entire Array:\",result1)  # 4.0\n",
    "\n",
    "# calculate the mean along vertical axis (axis=0)\n",
    "result2 = np.mean(array1, axis=0)\n",
    "print(\"Along Vertical Axis:\",result2)  # [3. 5.]\n",
    "\n",
    "# calculate the mean along  (axis=1)\n",
    "result3 = np.mean(array1, axis=1)\n",
    "print(\"Along Horizontal Axis :\",result3)  # [2. 6.]"
   ]
  },
  {
   "cell_type": "markdown",
   "metadata": {
    "id": "2OxYMOPVjn-L"
   },
   "source": [
    "2. median()- This function calculates the statistical median of the elements of the array given."
   ]
  },
  {
   "cell_type": "code",
   "execution_count": null,
   "metadata": {
    "colab": {
     "base_uri": "https://localhost:8080/"
    },
    "executionInfo": {
     "elapsed": 610,
     "status": "ok",
     "timestamp": 1738045173200,
     "user": {
      "displayName": "Arnav",
      "userId": "10147333102024527908"
     },
     "user_tz": -330
    },
    "id": "S049E0YEj5M2",
    "outputId": "64c54d0f-1f12-42cd-b6ec-182251f0dab8"
   },
   "outputs": [
    {
     "name": "stdout",
     "output_type": "stream",
     "text": [
      "Output of odd no. of list items in x\n",
      "\n",
      "3.0\n"
     ]
    }
   ],
   "source": [
    "x=np.array([1,2,3,4,5])\n",
    "print(\"Output of odd no. of list items in x\\n\")\n",
    "print(np.median(x))"
   ]
  },
  {
   "cell_type": "code",
   "execution_count": null,
   "metadata": {
    "colab": {
     "base_uri": "https://localhost:8080/"
    },
    "executionInfo": {
     "elapsed": 395,
     "status": "ok",
     "timestamp": 1738045201621,
     "user": {
      "displayName": "Arnav",
      "userId": "10147333102024527908"
     },
     "user_tz": -330
    },
    "id": "4NAV9qDukMh7",
    "outputId": "dd77cc7f-7d8e-468b-d3f2-b715169eb866"
   },
   "outputs": [
    {
     "name": "stdout",
     "output_type": "stream",
     "text": [
      "Output of even no. of list items in x\n",
      "\n",
      "3.5\n"
     ]
    }
   ],
   "source": [
    "x=np.array([1,2,3,4,5,6])\n",
    "print(\"Output of even no. of list items in x\\n\")\n",
    "print(np.median(x))"
   ]
  },
  {
   "cell_type": "markdown",
   "metadata": {
    "id": "dhtbA8BekjBs"
   },
   "source": [
    "Calculation of the median is not just limited to 1D array. We can also calculate the median of the 2D array.\n",
    "\n",
    "In a 2D array, median can be calculated either along the horizontal or the vertical axis individually, or across the entire array.\n",
    "\n",
    "When computing the median of a 2D array, we use the axis parameter inside np.median() to specify the axis along which to compute the median.\n",
    "\n",
    "If we specify,\n",
    "\n",
    "axis = 0, median is calculated along vertical axis\n",
    "axis = 1, median is calculated along horizontal axis\n",
    "If we don't use the axis parameter, the median is computed over the entire array.\n",
    "\n"
   ]
  },
  {
   "cell_type": "code",
   "execution_count": null,
   "metadata": {
    "colab": {
     "base_uri": "https://localhost:8080/"
    },
    "executionInfo": {
     "elapsed": 392,
     "status": "ok",
     "timestamp": 1738045293782,
     "user": {
      "displayName": "Arnav",
      "userId": "10147333102024527908"
     },
     "user_tz": -330
    },
    "id": "ywRDVwGQkRjn",
    "outputId": "44ed2693-29e6-4a01-9ed7-f6a7add11200"
   },
   "outputs": [
    {
     "name": "stdout",
     "output_type": "stream",
     "text": [
      "Median along horizontal axis : [ 4. 10. 16.]\n",
      "Median along vertical axis: [ 8. 10. 12.]\n",
      "Median of entire array: 10.0\n"
     ]
    }
   ],
   "source": [
    "# create a 2D array\n",
    "array1 = np.array([[2, 4, 6],\n",
    "                   [8, 10, 12],\n",
    "                   [14, 16, 18]])\n",
    "\n",
    "# compute median along horizontal axis\n",
    "result1 = np.median(array1, axis=1)\n",
    "\n",
    "print(\"Median along horizontal axis :\", result1)\n",
    "\n",
    "# compute median along vertical axis\n",
    "result2 = np.median(array1, axis=0)\n",
    "\n",
    "print(\"Median along vertical axis:\", result2)\n",
    "\n",
    "# compute median of entire array\n",
    "result3 = np.median(array1)\n",
    "\n",
    "print(\"Median of entire array:\", result3)"
   ]
  },
  {
   "cell_type": "markdown",
   "metadata": {
    "id": "ygkIwwFalDfL"
   },
   "source": [
    "3.std()- This function calculates the statistical standard deviation of the elements of the array given\n",
    "\n",
    "The standard deviation is a measure of the spread of the data in the array. It gives us the degree to which the data points in an array deviate from the mean.\n",
    "\n",
    "Smaller standard deviation indicates that the data points are closer to the mean\n",
    "\n",
    "Larger standard deviation indicates that the data points are more spread out."
   ]
  },
  {
   "cell_type": "code",
   "execution_count": null,
   "metadata": {
    "colab": {
     "base_uri": "https://localhost:8080/"
    },
    "executionInfo": {
     "elapsed": 414,
     "status": "ok",
     "timestamp": 1738045552299,
     "user": {
      "displayName": "Arnav",
      "userId": "10147333102024527908"
     },
     "user_tz": -330
    },
    "id": "zlhGqeU5lj41",
    "outputId": "e4cb110c-7376-43a2-cc04-a61a0da08820"
   },
   "outputs": [
    {
     "name": "stdout",
     "output_type": "stream",
     "text": [
      "6.368673331236263\n"
     ]
    }
   ],
   "source": [
    "# create a numpy array\n",
    "marks = np.array([76, 78, 81, 66, 85])\n",
    "\n",
    "# compute the standard deviation of marks\n",
    "std_marks = np.std(marks)\n",
    "print(\"Standard Deviation of the above marks list\")\n",
    "print(std_marks)"
   ]
  },
  {
   "cell_type": "markdown",
   "metadata": {
    "id": "yVzK2y3ImEQ-"
   },
   "source": [
    "In a 2D array, standard deviation can be calculated either along the horizontal or the vertical axis individually, or across the entire array.\n",
    "\n",
    "Similar to mean and median, when computing the standard deviation of a 2D array, we use the axis parameter inside np.std() to specify the axis along which to compute the standard deviation."
   ]
  },
  {
   "cell_type": "code",
   "execution_count": null,
   "metadata": {
    "colab": {
     "base_uri": "https://localhost:8080/"
    },
    "executionInfo": {
     "elapsed": 410,
     "status": "ok",
     "timestamp": 1738045752545,
     "user": {
      "displayName": "Arnav",
      "userId": "10147333102024527908"
     },
     "user_tz": -330
    },
    "id": "whLBzafmmQKc",
    "outputId": "3abfc70d-3738-43ef-f513-54a94b133f5a"
   },
   "outputs": [
    {
     "name": "stdout",
     "output_type": "stream",
     "text": [
      "Standard deviation along horizontal axis: [2.86744176 3.29983165 1.24721913]\n",
      "Standard deviation  along vertical axis: [0.81649658 1.24721913 1.63299316]\n",
      "Standard deviation of entire array: 2.7666443551086073\n"
     ]
    }
   ],
   "source": [
    "# create a 2D array\n",
    "array1 = np.array([[2, 5, 9],\n",
    "                 [3, 8, 11],\n",
    "                 [4, 6, 7]])\n",
    "\n",
    "# compute standard deviation along horizontal axis\n",
    "result1 = np.std(array1, axis=1)\n",
    "print(\"Standard deviation along horizontal axis:\", result1)\n",
    "\n",
    "# compute standard deviation along vertical axis\n",
    "result2 = np.std(array1, axis=0)\n",
    "print(\"Standard deviation  along vertical axis:\", result2)\n",
    "\n",
    "# compute standard deviation of entire array\n",
    "result3 = np.std(array1)\n",
    "print(\"Standard deviation of entire array:\", result3)"
   ]
  },
  {
   "cell_type": "markdown",
   "metadata": {
    "id": "cuOUuelrnLP8"
   },
   "source": [
    "4. percentile()- In NumPy, we use the percentile() function to compute the nth percentile of a given array."
   ]
  },
  {
   "cell_type": "code",
   "execution_count": null,
   "metadata": {
    "colab": {
     "base_uri": "https://localhost:8080/"
    },
    "executionInfo": {
     "elapsed": 406,
     "status": "ok",
     "timestamp": 1738046222373,
     "user": {
      "displayName": "Arnav",
      "userId": "10147333102024527908"
     },
     "user_tz": -330
    },
    "id": "s-VGMbw4nvc1",
    "outputId": "4341be58-0899-4e85-e2ac-19c2111a20f6"
   },
   "outputs": [
    {
     "name": "stdout",
     "output_type": "stream",
     "text": [
      "25th percentile: 5.5\n",
      "75th percentile: 14.5\n"
     ]
    }
   ],
   "source": [
    "# create an array\n",
    "array1 = np.array([1, 3, 5, 7, 9, 11, 13, 15, 17, 19])\n",
    "\n",
    "# compute the 25th percentile of the array\n",
    "result1 = np.percentile(array1, 25)\n",
    "print(\"25th percentile:\",result1)\n",
    "\n",
    "# compute the 75th percentile of the array\n",
    "result2 = np.percentile(array1, 75)\n",
    "print(\"75th percentile:\",result2)"
   ]
  },
  {
   "cell_type": "markdown",
   "metadata": {
    "id": "bUVNZrFLoWt8"
   },
   "source": [
    "5. min()- Finds the minimum value of the array.\n",
    "6. max()- Finds the maximum value of the array."
   ]
  },
  {
   "cell_type": "code",
   "execution_count": null,
   "metadata": {
    "colab": {
     "base_uri": "https://localhost:8080/"
    },
    "executionInfo": {
     "elapsed": 405,
     "status": "ok",
     "timestamp": 1738046408403,
     "user": {
      "displayName": "Arnav",
      "userId": "10147333102024527908"
     },
     "user_tz": -330
    },
    "id": "fobocGQ4o0mW",
    "outputId": "e9533a18-89ce-4268-b3c2-e13a81a366cb"
   },
   "outputs": [
    {
     "name": "stdout",
     "output_type": "stream",
     "text": [
      "Minimum value: 1\n",
      "Maximum value: 65\n"
     ]
    }
   ],
   "source": [
    "# create an array\n",
    "array1 = np.array([2,6,9,15,17,22,65,1,62])\n",
    "\n",
    "# find the minimum value of the array\n",
    "min_val = np.min(array1)\n",
    "\n",
    "# find the maximum value of the array\n",
    "max_val = np.max(array1)\n",
    "\n",
    "# print the results\n",
    "print(\"Minimum value:\", min_val)\n",
    "print(\"Maximum value:\", max_val)"
   ]
  },
  {
   "cell_type": "markdown",
   "metadata": {
    "id": "7nSNR301rNPk"
   },
   "source": [
    "7. cov()- This function calculates the statistical covarience between 2 matrices or arrays of same dimension"
   ]
  },
  {
   "cell_type": "code",
   "execution_count": null,
   "metadata": {
    "colab": {
     "base_uri": "https://localhost:8080/"
    },
    "executionInfo": {
     "elapsed": 435,
     "status": "ok",
     "timestamp": 1738047448433,
     "user": {
      "displayName": "Arnav",
      "userId": "10147333102024527908"
     },
     "user_tz": -330
    },
    "id": "93Vd7UU4sGiX",
    "outputId": "d489a3e1-31b8-4e91-e35d-44e5cafda2da"
   },
   "outputs": [
    {
     "name": "stdout",
     "output_type": "stream",
     "text": [
      "Shape of array:\n",
      " (3, 3)\n",
      "Covariance matrix of x:\n",
      " [[4.33333333 2.83333333 2.        ]\n",
      " [2.83333333 2.33333333 1.5       ]\n",
      " [2.         1.5        1.        ]]\n"
     ]
    }
   ],
   "source": [
    "x = np.array([[0, 3, 4], [1, 2, 4], [3, 4, 5]])\n",
    "\n",
    "print(\"Shape of array:\\n\", np.shape(x))\n",
    "\n",
    "print(\"Covariance matrix of x:\\n\", np.cov(x))"
   ]
  },
  {
   "cell_type": "markdown",
   "metadata": {
    "id": "JYnJv6Wio9B8"
   },
   "source": [
    "**Using Scipy Module**"
   ]
  },
  {
   "cell_type": "code",
   "execution_count": null,
   "metadata": {
    "id": "Shy5e3ZapA8U"
   },
   "outputs": [],
   "source": [
    "from scipy import stats"
   ]
  },
  {
   "cell_type": "markdown",
   "metadata": {
    "id": "MVpOHpTxqKBE"
   },
   "source": [
    "1. mode()- It takes an array as input and returns the mode along with their corresponding counts.\n",
    "\n",
    "Mode is the data item in the dataset having largest occurance.:"
   ]
  },
  {
   "cell_type": "code",
   "execution_count": null,
   "metadata": {
    "colab": {
     "base_uri": "https://localhost:8080/"
    },
    "executionInfo": {
     "elapsed": 466,
     "status": "ok",
     "timestamp": 1738046925198,
     "user": {
      "displayName": "Arnav",
      "userId": "10147333102024527908"
     },
     "user_tz": -330
    },
    "id": "XR3075QkqEd-",
    "outputId": "ea7fd80b-0a04-4c0c-c503-b3c9c6aaed56"
   },
   "outputs": [
    {
     "name": "stdout",
     "output_type": "stream",
     "text": [
      "Mode: ModeResult(mode=1, count=3)\n"
     ]
    }
   ],
   "source": [
    "data = [1, 2, 2, 3, 1, 1, 5]\n",
    "\n",
    "print(\"Mode:\", stats.mode(data))"
   ]
  }
 ],
 "metadata": {
  "colab": {
   "authorship_tag": "ABX9TyP7IkSg8Tw5fS/v1GyU4rD+",
   "mount_file_id": "1RuKdNwUy-J5x5oTUhWiMrrArNTq9avxF",
   "provenance": []
  },
  "kernelspec": {
   "display_name": "Python 3 (ipykernel)",
   "language": "python",
   "name": "python3"
  },
  "language_info": {
   "codemirror_mode": {
    "name": "ipython",
    "version": 3
   },
   "file_extension": ".py",
   "mimetype": "text/x-python",
   "name": "python",
   "nbconvert_exporter": "python",
   "pygments_lexer": "ipython3",
   "version": "3.12.4"
  }
 },
 "nbformat": 4,
 "nbformat_minor": 4
}
